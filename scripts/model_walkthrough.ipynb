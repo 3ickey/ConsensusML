{
 "cells": [
  {
   "cell_type": "code",
   "execution_count": 32,
   "metadata": {},
   "outputs": [],
   "source": [
    "import numpy as np\n",
    "import pandas as pd\n",
    "from clean import manifest_clinical_merge\n",
    "from collections import Counter"
   ]
  },
  {
   "cell_type": "code",
   "execution_count": 2,
   "metadata": {},
   "outputs": [],
   "source": [
    "pd.set_option('display.max_columns', 100)"
   ]
  },
  {
   "cell_type": "markdown",
   "metadata": {},
   "source": [
    "# Data Prep"
   ]
  },
  {
   "cell_type": "code",
   "execution_count": 3,
   "metadata": {},
   "outputs": [
    {
     "name": "stderr",
     "output_type": "stream",
     "text": [
      "/Users/david/statsbomb/RNAseq_Cancer_Biomarkers/scripts/clean.py:16: SettingWithCopyWarning: \n",
      "A value is trying to be set on a copy of a slice from a DataFrame.\n",
      "Try using .loc[row_indexer,col_indexer] = value instead\n",
      "\n",
      "See the caveats in the documentation: http://pandas.pydata.org/pandas-docs/stable/indexing.html#indexing-view-versus-copy\n",
      "  target_df['TARGET USI'] = target_df.loc[:, 'entity_submitter_id'].apply(lambda x: x[:16])\n"
     ]
    }
   ],
   "source": [
    "manifest_df = pd.read_csv('../Manifest/GCD_TARGET_Data_Manifest_AML_NBL_WT_RT.csv')\n",
    "\n",
    "wt_disc_df = pd.read_excel('../Clinical_Data/TARGET_WT_ClinicalData_Discovery_20160714_public.xlsx')\n",
    "aml_disc_df = pd.read_excel('../Clinical_Data/TARGET_AML_ClinicalData_20160714.xlsx')\n",
    "nbl_disc_df = pd.read_excel('../Clinical_Data/TARGET_NBL_ClinicalData_20151124.xlsx')\n",
    "\n",
    "WT_df = manifest_clinical_merge(manifest_df, wt_disc_df, 'TARGET-WT')\n",
    "AML_df = manifest_clinical_merge(manifest_df, aml_disc_df, 'TARGET-AML')\n",
    "NBL_df = manifest_clinical_merge(manifest_df, nbl_disc_df, 'TARGET-NBL')"
   ]
  },
  {
   "cell_type": "code",
   "execution_count": 4,
   "metadata": {},
   "outputs": [],
   "source": [
    "from clean import assay_transpose"
   ]
  },
  {
   "cell_type": "code",
   "execution_count": 5,
   "metadata": {},
   "outputs": [],
   "source": [
    "assay_df = pd.read_csv('../TARGET_NBL_AML_RT_WT_TMMCPM_log2_Norm_Counts.csv')\n",
    "assay_t_df = assay_transpose(assay_df)"
   ]
  },
  {
   "cell_type": "code",
   "execution_count": 6,
   "metadata": {},
   "outputs": [],
   "source": [
    "from clean import assay_clinical_merge"
   ]
  },
  {
   "cell_type": "code",
   "execution_count": 7,
   "metadata": {},
   "outputs": [],
   "source": [
    "AML_genes = assay_clinical_merge(assay_t_df, AML_df)\n",
    "WT_genes = assay_clinical_merge(assay_t_df, WT_df)\n",
    "NBL_genes = assay_clinical_merge(assay_t_df, NBL_df)"
   ]
  },
  {
   "cell_type": "markdown",
   "metadata": {},
   "source": [
    "# Modeling on AML_genes\n",
    "\n",
    "## Classification - predict low_risk / not_low_risk in AML patients\n",
    "\n",
    "1) Variance comparison: Subset of patients under 03 09A classifcation - choosing 1000 genes of highest/lowest variance \n",
    "between labeled low_risk, not_low_risk group\n",
    "\n",
    "2) Model performance when randomly sampling genes\n",
    "\n",
    "3) Lasso logistic regression\n",
    "\n",
    "4) Tree modeling with features considered important by Lasso"
   ]
  },
  {
   "cell_type": "code",
   "execution_count": 46,
   "metadata": {},
   "outputs": [],
   "source": [
    "from model_comp import data_prep_columns, model_prep, model_comp, model_prep_loc, xgboost_tuner, create_model_df\n",
    "from sklearn.metrics import log_loss\n",
    "from sklearn.model_selection import train_test_split\n",
    "from sklearn.ensemble import  RandomForestClassifier, GradientBoostingClassifier\n",
    "from xgboost import XGBClassifier"
   ]
  },
  {
   "cell_type": "markdown",
   "metadata": {},
   "source": [
    "# 1. Variance Comparison\n",
    "\n",
    "### High Variance"
   ]
  },
  {
   "cell_type": "code",
   "execution_count": 23,
   "metadata": {},
   "outputs": [
    {
     "name": "stderr",
     "output_type": "stream",
     "text": [
      "/Users/david/statsbomb/RNAseq_Cancer_Biomarkers/scripts/model_comp.py:82: SettingWithCopyWarning: \n",
      "A value is trying to be set on a copy of a slice from a DataFrame.\n",
      "Try using .loc[row_indexer,col_indexer] = value instead\n",
      "\n",
      "See the caveats in the documentation: http://pandas.pydata.org/pandas-docs/stable/indexing.html#indexing-view-versus-copy\n",
      "  data['label'] = y.copy()\n",
      "[Parallel(n_jobs=1)]: Using backend SequentialBackend with 1 concurrent workers.\n",
      "[Parallel(n_jobs=1)]: Done 300 out of 300 | elapsed:    0.2s finished\n",
      "[Parallel(n_jobs=1)]: Using backend SequentialBackend with 1 concurrent workers.\n"
     ]
    },
    {
     "name": "stdout",
     "output_type": "stream",
     "text": [
      "Ensemble Log Loss 0.28771180389607903\n",
      "Gradient Boost Log Loss 0.36210740308746076\n",
      "Random Forest Log Loss 0.3262005795045274\n",
      "XGBoost Log Loss 0.22184269636164647\n"
     ]
    },
    {
     "name": "stderr",
     "output_type": "stream",
     "text": [
      "[Parallel(n_jobs=1)]: Done 300 out of 300 | elapsed:    0.0s finished\n"
     ]
    }
   ],
   "source": [
    "df, a = data_prep_columns(AML_genes, 'Max')\n",
    "X_train, X_test, y_train, y_test, holdout, df = model_prep(df, a)\n",
    "xg1, rf1 = model_comp(X_train, X_test, y_train, y_test)"
   ]
  },
  {
   "cell_type": "code",
   "execution_count": 25,
   "metadata": {},
   "outputs": [
    {
     "data": {
      "text/html": [
       "<div>\n",
       "<style scoped>\n",
       "    .dataframe tbody tr th:only-of-type {\n",
       "        vertical-align: middle;\n",
       "    }\n",
       "\n",
       "    .dataframe tbody tr th {\n",
       "        vertical-align: top;\n",
       "    }\n",
       "\n",
       "    .dataframe thead th {\n",
       "        text-align: right;\n",
       "    }\n",
       "</style>\n",
       "<table border=\"1\" class=\"dataframe\">\n",
       "  <thead>\n",
       "    <tr style=\"text-align: right;\">\n",
       "      <th></th>\n",
       "      <th>ENSG00000129824.14</th>\n",
       "      <th>ENSG00000079102.15</th>\n",
       "      <th>ENSG00000229807.8</th>\n",
       "      <th>ENSG00000152192.7</th>\n",
       "      <th>ENSG00000012817.14</th>\n",
       "      <th>ENSG00000067048.15</th>\n",
       "      <th>ENSG00000131002.10</th>\n",
       "      <th>ENSG00000198692.8</th>\n",
       "      <th>ENSG00000183878.14</th>\n",
       "      <th>ENSG00000185686.16</th>\n",
       "      <th>ENSG00000233864.6</th>\n",
       "      <th>ENSG00000067646.10</th>\n",
       "      <th>ENSG00000133454.14</th>\n",
       "      <th>ENSG00000226278.1</th>\n",
       "      <th>ENSG00000134184.11</th>\n",
       "      <th>ENSG00000114374.11</th>\n",
       "      <th>ENSG00000130508.9</th>\n",
       "      <th>ENSG00000099725.13</th>\n",
       "      <th>ENSG00000169855.18</th>\n",
       "      <th>ENSG00000260197.1</th>\n",
       "      <th>ENSG00000143995.18</th>\n",
       "      <th>ENSG00000228651.1</th>\n",
       "      <th>ENSG00000158481.11</th>\n",
       "      <th>ENSG00000260918.1</th>\n",
       "      <th>ENSG00000107562.15</th>\n",
       "      <th>ENSG00000124780.12</th>\n",
       "      <th>ENSG00000145358.5</th>\n",
       "      <th>ENSG00000198848.11</th>\n",
       "      <th>ENSG00000100079.6</th>\n",
       "      <th>ENSG00000169908.9</th>\n",
       "      <th>ENSG00000078399.14</th>\n",
       "      <th>ENSG00000132514.12</th>\n",
       "      <th>ENSG00000251381.5</th>\n",
       "      <th>ENSG00000227502.2</th>\n",
       "      <th>ENSG00000233392.4</th>\n",
       "      <th>ENSG00000156575.2</th>\n",
       "      <th>ENSG00000231513.3</th>\n",
       "      <th>ENSG00000230882.1</th>\n",
       "      <th>ENSG00000205502.3</th>\n",
       "      <th>ENSG00000152785.6</th>\n",
       "      <th>ENSG00000128422.14</th>\n",
       "      <th>ENSG00000007038.9</th>\n",
       "      <th>ENSG00000102854.13</th>\n",
       "      <th>ENSG00000150760.11</th>\n",
       "      <th>ENSG00000267453.5</th>\n",
       "      <th>ENSG00000170549.3</th>\n",
       "      <th>ENSG00000125869.8</th>\n",
       "      <th>ENSG00000267206.4</th>\n",
       "      <th>ENSG00000164176.11</th>\n",
       "      <th>ENSG00000204644.8</th>\n",
       "      <th>...</th>\n",
       "      <th>ENSG00000242193.8</th>\n",
       "      <th>ENSG00000196209.11</th>\n",
       "      <th>ENSG00000176105.12</th>\n",
       "      <th>ENSG00000078596.9</th>\n",
       "      <th>ENSG00000234456.6</th>\n",
       "      <th>ENSG00000163600.11</th>\n",
       "      <th>ENSG00000165349.10</th>\n",
       "      <th>ENSG00000272168.4</th>\n",
       "      <th>ENSG00000158186.11</th>\n",
       "      <th>ENSG00000235478.3</th>\n",
       "      <th>ENSG00000167641.9</th>\n",
       "      <th>ENSG00000133863.5</th>\n",
       "      <th>ENSG00000165731.16</th>\n",
       "      <th>ENSG00000163331.9</th>\n",
       "      <th>ENSG00000119121.20</th>\n",
       "      <th>ENSG00000166928.9</th>\n",
       "      <th>ENSG00000235098.7</th>\n",
       "      <th>ENSG00000163735.6</th>\n",
       "      <th>ENSG00000169427.5</th>\n",
       "      <th>ENSG00000147614.3</th>\n",
       "      <th>ENSG00000264660.2</th>\n",
       "      <th>ENSG00000206588.1</th>\n",
       "      <th>ENSG00000172889.14</th>\n",
       "      <th>ENSG00000112303.12</th>\n",
       "      <th>ENSG00000134121.8</th>\n",
       "      <th>ENSG00000213853.8</th>\n",
       "      <th>ENSG00000171016.10</th>\n",
       "      <th>ENSG00000184304.13</th>\n",
       "      <th>ENSG00000167748.9</th>\n",
       "      <th>ENSG00000145864.11</th>\n",
       "      <th>ENSG00000211752.3</th>\n",
       "      <th>ENSG00000182632.13</th>\n",
       "      <th>ENSG00000207205.1</th>\n",
       "      <th>ENSG00000106031.7</th>\n",
       "      <th>ENSG00000157510.12</th>\n",
       "      <th>ENSG00000145777.13</th>\n",
       "      <th>ENSG00000183850.12</th>\n",
       "      <th>ENSG00000105366.14</th>\n",
       "      <th>ENSG00000169851.14</th>\n",
       "      <th>ENSG00000267886.1</th>\n",
       "      <th>ENSG00000101115.11</th>\n",
       "      <th>ENSG00000102230.12</th>\n",
       "      <th>ENSG00000101307.14</th>\n",
       "      <th>ENSG00000188282.11</th>\n",
       "      <th>ENSG00000134901.11</th>\n",
       "      <th>ENSG00000179776.16</th>\n",
       "      <th>ENSG00000134028.13</th>\n",
       "      <th>ENSG00000120332.14</th>\n",
       "      <th>ENSG00000238243.3</th>\n",
       "      <th>ENSG00000267568.5</th>\n",
       "    </tr>\n",
       "  </thead>\n",
       "  <tbody>\n",
       "    <tr>\n",
       "      <th>5</th>\n",
       "      <td>-5.80459</td>\n",
       "      <td>-4.74701</td>\n",
       "      <td>7.15795</td>\n",
       "      <td>-3.1249</td>\n",
       "      <td>-6.92715</td>\n",
       "      <td>-5.18099</td>\n",
       "      <td>-4.74701</td>\n",
       "      <td>-6.92714</td>\n",
       "      <td>-6.92714</td>\n",
       "      <td>-3.39161</td>\n",
       "      <td>-4.74701</td>\n",
       "      <td>-6.92715</td>\n",
       "      <td>-6.92715</td>\n",
       "      <td>1.99433</td>\n",
       "      <td>-2.24212</td>\n",
       "      <td>-5.80459</td>\n",
       "      <td>-0.565464</td>\n",
       "      <td>-5.18099</td>\n",
       "      <td>-1.94482</td>\n",
       "      <td>-6.92714</td>\n",
       "      <td>5.32477</td>\n",
       "      <td>0.0342299</td>\n",
       "      <td>0.383566</td>\n",
       "      <td>-1.74447</td>\n",
       "      <td>5.68118</td>\n",
       "      <td>-1.3045</td>\n",
       "      <td>0.0745502</td>\n",
       "      <td>6.44677</td>\n",
       "      <td>4.56271</td>\n",
       "      <td>-1.3394</td>\n",
       "      <td>5.56953</td>\n",
       "      <td>3.85028</td>\n",
       "      <td>-1.37515</td>\n",
       "      <td>-0.390612</td>\n",
       "      <td>-4.74701</td>\n",
       "      <td>-2.11576</td>\n",
       "      <td>-6.92714</td>\n",
       "      <td>-0.740952</td>\n",
       "      <td>-3.54606</td>\n",
       "      <td>-5.80459</td>\n",
       "      <td>-2.61702</td>\n",
       "      <td>-5.18099</td>\n",
       "      <td>8.26967</td>\n",
       "      <td>-3.71906</td>\n",
       "      <td>-6.92714</td>\n",
       "      <td>-6.92715</td>\n",
       "      <td>9.2241</td>\n",
       "      <td>-6.92714</td>\n",
       "      <td>-5.18099</td>\n",
       "      <td>-6.92714</td>\n",
       "      <td>...</td>\n",
       "      <td>2.3578</td>\n",
       "      <td>5.77491</td>\n",
       "      <td>0.126615</td>\n",
       "      <td>-1.44944</td>\n",
       "      <td>-3.54606</td>\n",
       "      <td>-2.53384</td>\n",
       "      <td>-6.92715</td>\n",
       "      <td>3.00333</td>\n",
       "      <td>4.02848</td>\n",
       "      <td>2.75306</td>\n",
       "      <td>-1.17281</td>\n",
       "      <td>-1.17281</td>\n",
       "      <td>6.42192</td>\n",
       "      <td>-0.504794</td>\n",
       "      <td>-6.92715</td>\n",
       "      <td>3.45665</td>\n",
       "      <td>-4.14335</td>\n",
       "      <td>-3.71906</td>\n",
       "      <td>-3.71906</td>\n",
       "      <td>-3.1249</td>\n",
       "      <td>-6.92714</td>\n",
       "      <td>2.85303</td>\n",
       "      <td>0.782873</td>\n",
       "      <td>-2.53384</td>\n",
       "      <td>-1.52776</td>\n",
       "      <td>-0.88817</td>\n",
       "      <td>-3.71906</td>\n",
       "      <td>-3.91566</td>\n",
       "      <td>6.43084</td>\n",
       "      <td>-2.61702</td>\n",
       "      <td>-4.74701</td>\n",
       "      <td>-5.80459</td>\n",
       "      <td>2.53682</td>\n",
       "      <td>-2.45519</td>\n",
       "      <td>-1.89207</td>\n",
       "      <td>-4.41384</td>\n",
       "      <td>-1.02348</td>\n",
       "      <td>-1.99958</td>\n",
       "      <td>-5.80459</td>\n",
       "      <td>-0.284807</td>\n",
       "      <td>-0.88817</td>\n",
       "      <td>-2.89989</td>\n",
       "      <td>7.51086</td>\n",
       "      <td>0.496696</td>\n",
       "      <td>-2.79931</td>\n",
       "      <td>0.225427</td>\n",
       "      <td>-1.84117</td>\n",
       "      <td>0.113774</td>\n",
       "      <td>-3.91566</td>\n",
       "      <td>-6.92714</td>\n",
       "    </tr>\n",
       "    <tr>\n",
       "      <th>9</th>\n",
       "      <td>-1.76765</td>\n",
       "      <td>-4.50961</td>\n",
       "      <td>8.21935</td>\n",
       "      <td>-3.23314</td>\n",
       "      <td>-2.4217</td>\n",
       "      <td>-0.028267</td>\n",
       "      <td>-3.23314</td>\n",
       "      <td>-2.49236</td>\n",
       "      <td>-2.72784</td>\n",
       "      <td>-2.72784</td>\n",
       "      <td>-4.24272</td>\n",
       "      <td>-2.28999</td>\n",
       "      <td>-3.35954</td>\n",
       "      <td>0.898223</td>\n",
       "      <td>4.88921</td>\n",
       "      <td>-2.90931</td>\n",
       "      <td>-4.83733</td>\n",
       "      <td>-4.01759</td>\n",
       "      <td>-5.86665</td>\n",
       "      <td>-4.24272</td>\n",
       "      <td>4.955</td>\n",
       "      <td>1.35088</td>\n",
       "      <td>-4.83733</td>\n",
       "      <td>-5.86665</td>\n",
       "      <td>-2.81572</td>\n",
       "      <td>1.35592</td>\n",
       "      <td>-4.83733</td>\n",
       "      <td>2.96277</td>\n",
       "      <td>3.36624</td>\n",
       "      <td>1.45313</td>\n",
       "      <td>6.74335</td>\n",
       "      <td>-2.05793</td>\n",
       "      <td>-5.86665</td>\n",
       "      <td>2.38843</td>\n",
       "      <td>-0.0414518</td>\n",
       "      <td>-4.01759</td>\n",
       "      <td>-6.92714</td>\n",
       "      <td>-4.01759</td>\n",
       "      <td>-5.26208</td>\n",
       "      <td>-4.50961</td>\n",
       "      <td>2.6217</td>\n",
       "      <td>-2.56667</td>\n",
       "      <td>-3.23314</td>\n",
       "      <td>4.88747</td>\n",
       "      <td>-3.65137</td>\n",
       "      <td>-6.92715</td>\n",
       "      <td>-2.22838</td>\n",
       "      <td>-4.24272</td>\n",
       "      <td>-1.68256</td>\n",
       "      <td>-6.92714</td>\n",
       "      <td>...</td>\n",
       "      <td>2.92768</td>\n",
       "      <td>1.80214</td>\n",
       "      <td>4.88443</td>\n",
       "      <td>6.5013</td>\n",
       "      <td>0.0973502</td>\n",
       "      <td>-0.787976</td>\n",
       "      <td>-6.92715</td>\n",
       "      <td>-2.4217</td>\n",
       "      <td>-0.660448</td>\n",
       "      <td>-5.26208</td>\n",
       "      <td>-3.35954</td>\n",
       "      <td>-5.86665</td>\n",
       "      <td>-0.209853</td>\n",
       "      <td>-0.856232</td>\n",
       "      <td>-6.92715</td>\n",
       "      <td>1.33056</td>\n",
       "      <td>-3.35954</td>\n",
       "      <td>-3.82289</td>\n",
       "      <td>-5.26207</td>\n",
       "      <td>0.898223</td>\n",
       "      <td>-6.92714</td>\n",
       "      <td>-5.86665</td>\n",
       "      <td>4.51667</td>\n",
       "      <td>1.39069</td>\n",
       "      <td>-6.92715</td>\n",
       "      <td>-2.22838</td>\n",
       "      <td>-2.28999</td>\n",
       "      <td>-5.26208</td>\n",
       "      <td>-2.4217</td>\n",
       "      <td>-5.86665</td>\n",
       "      <td>1.92585</td>\n",
       "      <td>-6.92714</td>\n",
       "      <td>-4.24272</td>\n",
       "      <td>-5.26207</td>\n",
       "      <td>-2.11254</td>\n",
       "      <td>-1.81215</td>\n",
       "      <td>0.267381</td>\n",
       "      <td>-4.83733</td>\n",
       "      <td>-5.86665</td>\n",
       "      <td>-0.452428</td>\n",
       "      <td>-2.645</td>\n",
       "      <td>-2.56667</td>\n",
       "      <td>3.04615</td>\n",
       "      <td>-2.72784</td>\n",
       "      <td>2.8188</td>\n",
       "      <td>-3.35954</td>\n",
       "      <td>-0.318004</td>\n",
       "      <td>0.972251</td>\n",
       "      <td>1.10383</td>\n",
       "      <td>-6.92714</td>\n",
       "    </tr>\n",
       "    <tr>\n",
       "      <th>14</th>\n",
       "      <td>7.58226</td>\n",
       "      <td>-5.93369</td>\n",
       "      <td>-3.3542</td>\n",
       "      <td>-3.61702</td>\n",
       "      <td>5.45232</td>\n",
       "      <td>8.17851</td>\n",
       "      <td>5.57421</td>\n",
       "      <td>4.17348</td>\n",
       "      <td>5.11027</td>\n",
       "      <td>0.787718</td>\n",
       "      <td>4.80919</td>\n",
       "      <td>5.97543</td>\n",
       "      <td>-4.35311</td>\n",
       "      <td>3.01975</td>\n",
       "      <td>4.04274</td>\n",
       "      <td>5.31742</td>\n",
       "      <td>0.239735</td>\n",
       "      <td>4.93395</td>\n",
       "      <td>-0.185255</td>\n",
       "      <td>1.87675</td>\n",
       "      <td>6.44452</td>\n",
       "      <td>2.25205</td>\n",
       "      <td>1.5151</td>\n",
       "      <td>-0.940059</td>\n",
       "      <td>-3.3542</td>\n",
       "      <td>-5.35092</td>\n",
       "      <td>-2.29588</td>\n",
       "      <td>5.43206</td>\n",
       "      <td>4.78681</td>\n",
       "      <td>-4.35311</td>\n",
       "      <td>7.78952</td>\n",
       "      <td>-3.23881</td>\n",
       "      <td>-4.35311</td>\n",
       "      <td>2.31715</td>\n",
       "      <td>1.61819</td>\n",
       "      <td>-2.29588</td>\n",
       "      <td>-1.32529</td>\n",
       "      <td>-2.76961</td>\n",
       "      <td>-2.85203</td>\n",
       "      <td>-1.13267</td>\n",
       "      <td>-5.93369</td>\n",
       "      <td>5.4402</td>\n",
       "      <td>9.59395</td>\n",
       "      <td>0.780897</td>\n",
       "      <td>-0.09466</td>\n",
       "      <td>-5.93369</td>\n",
       "      <td>2.95457</td>\n",
       "      <td>-4.93697</td>\n",
       "      <td>-4.93697</td>\n",
       "      <td>3.72152</td>\n",
       "      <td>...</td>\n",
       "      <td>3.21709</td>\n",
       "      <td>3.93319</td>\n",
       "      <td>2.40627</td>\n",
       "      <td>5.51506</td>\n",
       "      <td>-1.51369</td>\n",
       "      <td>4.17283</td>\n",
       "      <td>-3.0325</td>\n",
       "      <td>4.14123</td>\n",
       "      <td>3.65313</td>\n",
       "      <td>-1.93985</td>\n",
       "      <td>-0.636317</td>\n",
       "      <td>-4.6157</td>\n",
       "      <td>0.960657</td>\n",
       "      <td>-2.23932</td>\n",
       "      <td>-4.93697</td>\n",
       "      <td>4.78511</td>\n",
       "      <td>-2.85203</td>\n",
       "      <td>-0.810793</td>\n",
       "      <td>-4.13103</td>\n",
       "      <td>-6.92715</td>\n",
       "      <td>-6.92714</td>\n",
       "      <td>-4.93697</td>\n",
       "      <td>1.0987</td>\n",
       "      <td>3.56059</td>\n",
       "      <td>-2.48023</td>\n",
       "      <td>-4.35311</td>\n",
       "      <td>-3.93862</td>\n",
       "      <td>-6.92714</td>\n",
       "      <td>-0.730633</td>\n",
       "      <td>-5.93369</td>\n",
       "      <td>-2.13244</td>\n",
       "      <td>-6.92714</td>\n",
       "      <td>-2.03293</td>\n",
       "      <td>-5.35092</td>\n",
       "      <td>-4.35311</td>\n",
       "      <td>-2.08183</td>\n",
       "      <td>-4.93697</td>\n",
       "      <td>-1.23957</td>\n",
       "      <td>-6.92715</td>\n",
       "      <td>-6.92714</td>\n",
       "      <td>-3.0325</td>\n",
       "      <td>-2.13244</td>\n",
       "      <td>3.92005</td>\n",
       "      <td>0.269278</td>\n",
       "      <td>-2.23932</td>\n",
       "      <td>-4.93697</td>\n",
       "      <td>1.07659</td>\n",
       "      <td>-3.13197</td>\n",
       "      <td>-3.3542</td>\n",
       "      <td>-2.69164</td>\n",
       "    </tr>\n",
       "    <tr>\n",
       "      <th>17</th>\n",
       "      <td>7.25963</td>\n",
       "      <td>-5.22504</td>\n",
       "      <td>-4.79601</td>\n",
       "      <td>0.320798</td>\n",
       "      <td>6.47534</td>\n",
       "      <td>7.66052</td>\n",
       "      <td>4.08194</td>\n",
       "      <td>5.68395</td>\n",
       "      <td>5.17144</td>\n",
       "      <td>-1.02996</td>\n",
       "      <td>6.03755</td>\n",
       "      <td>5.35824</td>\n",
       "      <td>-1.40123</td>\n",
       "      <td>1.19873</td>\n",
       "      <td>3.38587</td>\n",
       "      <td>4.74498</td>\n",
       "      <td>0.352533</td>\n",
       "      <td>3.89164</td>\n",
       "      <td>-0.874927</td>\n",
       "      <td>4.03136</td>\n",
       "      <td>3.20212</td>\n",
       "      <td>-3.31022</td>\n",
       "      <td>1.28349</td>\n",
       "      <td>-4.79601</td>\n",
       "      <td>3.83941</td>\n",
       "      <td>1.61102</td>\n",
       "      <td>-0.0148659</td>\n",
       "      <td>0.687196</td>\n",
       "      <td>1.54845</td>\n",
       "      <td>1.40953</td>\n",
       "      <td>2.49522</td>\n",
       "      <td>0.965515</td>\n",
       "      <td>-3.97085</td>\n",
       "      <td>0.575094</td>\n",
       "      <td>-4.19718</td>\n",
       "      <td>-2.51546</td>\n",
       "      <td>-6.92714</td>\n",
       "      <td>-1.40123</td>\n",
       "      <td>-3.77526</td>\n",
       "      <td>1.74458</td>\n",
       "      <td>-4.19718</td>\n",
       "      <td>-2.00596</td>\n",
       "      <td>1.42453</td>\n",
       "      <td>1.18704</td>\n",
       "      <td>-2.11747</td>\n",
       "      <td>-0.80324</td>\n",
       "      <td>-0.669742</td>\n",
       "      <td>0.821764</td>\n",
       "      <td>-2.95911</td>\n",
       "      <td>-5.83841</td>\n",
       "      <td>...</td>\n",
       "      <td>-2.17664</td>\n",
       "      <td>0.331454</td>\n",
       "      <td>4.7061</td>\n",
       "      <td>7.36038</td>\n",
       "      <td>-1.51117</td>\n",
       "      <td>3.75089</td>\n",
       "      <td>2.13663</td>\n",
       "      <td>1.54845</td>\n",
       "      <td>-0.587147</td>\n",
       "      <td>-2.85879</td>\n",
       "      <td>0.310063</td>\n",
       "      <td>-5.22504</td>\n",
       "      <td>-1.0575</td>\n",
       "      <td>-4.79601</td>\n",
       "      <td>0.138638</td>\n",
       "      <td>-0.874927</td>\n",
       "      <td>-3.97085</td>\n",
       "      <td>-2.85879</td>\n",
       "      <td>-0.627853</td>\n",
       "      <td>-3.77526</td>\n",
       "      <td>-6.92714</td>\n",
       "      <td>-3.18345</td>\n",
       "      <td>3.36008</td>\n",
       "      <td>2.94022</td>\n",
       "      <td>-1.14342</td>\n",
       "      <td>0.463264</td>\n",
       "      <td>-1.40123</td>\n",
       "      <td>-6.92714</td>\n",
       "      <td>-0.826742</td>\n",
       "      <td>-4.46574</td>\n",
       "      <td>-1.71535</td>\n",
       "      <td>-5.83841</td>\n",
       "      <td>-0.669742</td>\n",
       "      <td>-2.765</td>\n",
       "      <td>-2.85879</td>\n",
       "      <td>-5.83841</td>\n",
       "      <td>0.255153</td>\n",
       "      <td>-3.77526</td>\n",
       "      <td>-4.79601</td>\n",
       "      <td>-0.757354</td>\n",
       "      <td>-0.850633</td>\n",
       "      <td>-0.416971</td>\n",
       "      <td>4.26539</td>\n",
       "      <td>-1.58941</td>\n",
       "      <td>0.999321</td>\n",
       "      <td>-0.264767</td>\n",
       "      <td>1.36873</td>\n",
       "      <td>-5.22504</td>\n",
       "      <td>1.28349</td>\n",
       "      <td>-2.95911</td>\n",
       "    </tr>\n",
       "    <tr>\n",
       "      <th>19</th>\n",
       "      <td>-0.119968</td>\n",
       "      <td>-2.41233</td>\n",
       "      <td>6.04326</td>\n",
       "      <td>-0.731223</td>\n",
       "      <td>-2.30993</td>\n",
       "      <td>-0.232569</td>\n",
       "      <td>-3.69325</td>\n",
       "      <td>-3.25232</td>\n",
       "      <td>-4.80175</td>\n",
       "      <td>-1.19569</td>\n",
       "      <td>-3.456</td>\n",
       "      <td>-2.30993</td>\n",
       "      <td>-0.380428</td>\n",
       "      <td>-4.80175</td>\n",
       "      <td>-1.33963</td>\n",
       "      <td>-4.33144</td>\n",
       "      <td>5.35875</td>\n",
       "      <td>-3.25232</td>\n",
       "      <td>-1.67939</td>\n",
       "      <td>-5.50405</td>\n",
       "      <td>4.58474</td>\n",
       "      <td>2.42482</td>\n",
       "      <td>5.15002</td>\n",
       "      <td>-5.50405</td>\n",
       "      <td>-1.8131</td>\n",
       "      <td>-0.764702</td>\n",
       "      <td>-0.0358153</td>\n",
       "      <td>7.04799</td>\n",
       "      <td>7.39108</td>\n",
       "      <td>-6.92715</td>\n",
       "      <td>8.14185</td>\n",
       "      <td>5.39141</td>\n",
       "      <td>-3.69325</td>\n",
       "      <td>0.100583</td>\n",
       "      <td>-3.69325</td>\n",
       "      <td>-1.39098</td>\n",
       "      <td>-6.92714</td>\n",
       "      <td>-0.604575</td>\n",
       "      <td>-2.04024</td>\n",
       "      <td>-2.21432</td>\n",
       "      <td>-3.456</td>\n",
       "      <td>4.23272</td>\n",
       "      <td>3.60011</td>\n",
       "      <td>3.3435</td>\n",
       "      <td>1.85389</td>\n",
       "      <td>-3.69325</td>\n",
       "      <td>7.79429</td>\n",
       "      <td>-4.80175</td>\n",
       "      <td>-5.50405</td>\n",
       "      <td>-6.92714</td>\n",
       "      <td>...</td>\n",
       "      <td>2.57623</td>\n",
       "      <td>5.11651</td>\n",
       "      <td>-0.406614</td>\n",
       "      <td>5.64471</td>\n",
       "      <td>-3.69325</td>\n",
       "      <td>4.74498</td>\n",
       "      <td>-3.456</td>\n",
       "      <td>1.84836</td>\n",
       "      <td>2.84394</td>\n",
       "      <td>0.291845</td>\n",
       "      <td>1.21153</td>\n",
       "      <td>-6.92715</td>\n",
       "      <td>3.95917</td>\n",
       "      <td>2.73437</td>\n",
       "      <td>-5.50405</td>\n",
       "      <td>4.32711</td>\n",
       "      <td>-6.92714</td>\n",
       "      <td>-3.97734</td>\n",
       "      <td>-4.80175</td>\n",
       "      <td>-2.52256</td>\n",
       "      <td>-6.92714</td>\n",
       "      <td>-2.64191</td>\n",
       "      <td>1.98557</td>\n",
       "      <td>5.35972</td>\n",
       "      <td>-6.92715</td>\n",
       "      <td>-3.456</td>\n",
       "      <td>-6.92715</td>\n",
       "      <td>-6.92714</td>\n",
       "      <td>2.37573</td>\n",
       "      <td>-6.92715</td>\n",
       "      <td>-0.906973</td>\n",
       "      <td>-6.92714</td>\n",
       "      <td>-0.329439</td>\n",
       "      <td>-6.92715</td>\n",
       "      <td>-3.456</td>\n",
       "      <td>-0.870068</td>\n",
       "      <td>-2.41233</td>\n",
       "      <td>-1.02371</td>\n",
       "      <td>-6.92715</td>\n",
       "      <td>-2.21432</td>\n",
       "      <td>-1.24209</td>\n",
       "      <td>-3.07386</td>\n",
       "      <td>7.18664</td>\n",
       "      <td>-2.04024</td>\n",
       "      <td>-1.29004</td>\n",
       "      <td>-2.12465</td>\n",
       "      <td>1.85939</td>\n",
       "      <td>-2.52256</td>\n",
       "      <td>-2.64191</td>\n",
       "      <td>-2.04024</td>\n",
       "    </tr>\n",
       "  </tbody>\n",
       "</table>\n",
       "<p>5 rows × 1496 columns</p>\n",
       "</div>"
      ],
      "text/plain": [
       "   ENSG00000129824.14 ENSG00000079102.15 ENSG00000229807.8 ENSG00000152192.7  \\\n",
       "5            -5.80459           -4.74701           7.15795           -3.1249   \n",
       "9            -1.76765           -4.50961           8.21935          -3.23314   \n",
       "14            7.58226           -5.93369           -3.3542          -3.61702   \n",
       "17            7.25963           -5.22504          -4.79601          0.320798   \n",
       "19          -0.119968           -2.41233           6.04326         -0.731223   \n",
       "\n",
       "   ENSG00000012817.14 ENSG00000067048.15 ENSG00000131002.10 ENSG00000198692.8  \\\n",
       "5            -6.92715           -5.18099           -4.74701          -6.92714   \n",
       "9             -2.4217          -0.028267           -3.23314          -2.49236   \n",
       "14            5.45232            8.17851            5.57421           4.17348   \n",
       "17            6.47534            7.66052            4.08194           5.68395   \n",
       "19           -2.30993          -0.232569           -3.69325          -3.25232   \n",
       "\n",
       "   ENSG00000183878.14 ENSG00000185686.16 ENSG00000233864.6 ENSG00000067646.10  \\\n",
       "5            -6.92714           -3.39161          -4.74701           -6.92715   \n",
       "9            -2.72784           -2.72784          -4.24272           -2.28999   \n",
       "14            5.11027           0.787718           4.80919            5.97543   \n",
       "17            5.17144           -1.02996           6.03755            5.35824   \n",
       "19           -4.80175           -1.19569            -3.456           -2.30993   \n",
       "\n",
       "   ENSG00000133454.14 ENSG00000226278.1 ENSG00000134184.11 ENSG00000114374.11  \\\n",
       "5            -6.92715           1.99433           -2.24212           -5.80459   \n",
       "9            -3.35954          0.898223            4.88921           -2.90931   \n",
       "14           -4.35311           3.01975            4.04274            5.31742   \n",
       "17           -1.40123           1.19873            3.38587            4.74498   \n",
       "19          -0.380428          -4.80175           -1.33963           -4.33144   \n",
       "\n",
       "   ENSG00000130508.9 ENSG00000099725.13 ENSG00000169855.18 ENSG00000260197.1  \\\n",
       "5          -0.565464           -5.18099           -1.94482          -6.92714   \n",
       "9           -4.83733           -4.01759           -5.86665          -4.24272   \n",
       "14          0.239735            4.93395          -0.185255           1.87675   \n",
       "17          0.352533            3.89164          -0.874927           4.03136   \n",
       "19           5.35875           -3.25232           -1.67939          -5.50405   \n",
       "\n",
       "   ENSG00000143995.18 ENSG00000228651.1 ENSG00000158481.11 ENSG00000260918.1  \\\n",
       "5             5.32477         0.0342299           0.383566          -1.74447   \n",
       "9               4.955           1.35088           -4.83733          -5.86665   \n",
       "14            6.44452           2.25205             1.5151         -0.940059   \n",
       "17            3.20212          -3.31022            1.28349          -4.79601   \n",
       "19            4.58474           2.42482            5.15002          -5.50405   \n",
       "\n",
       "   ENSG00000107562.15 ENSG00000124780.12 ENSG00000145358.5 ENSG00000198848.11  \\\n",
       "5             5.68118            -1.3045         0.0745502            6.44677   \n",
       "9            -2.81572            1.35592          -4.83733            2.96277   \n",
       "14            -3.3542           -5.35092          -2.29588            5.43206   \n",
       "17            3.83941            1.61102        -0.0148659           0.687196   \n",
       "19            -1.8131          -0.764702        -0.0358153            7.04799   \n",
       "\n",
       "   ENSG00000100079.6 ENSG00000169908.9 ENSG00000078399.14 ENSG00000132514.12  \\\n",
       "5            4.56271           -1.3394            5.56953            3.85028   \n",
       "9            3.36624           1.45313            6.74335           -2.05793   \n",
       "14           4.78681          -4.35311            7.78952           -3.23881   \n",
       "17           1.54845           1.40953            2.49522           0.965515   \n",
       "19           7.39108          -6.92715            8.14185            5.39141   \n",
       "\n",
       "   ENSG00000251381.5 ENSG00000227502.2 ENSG00000233392.4 ENSG00000156575.2  \\\n",
       "5           -1.37515         -0.390612          -4.74701          -2.11576   \n",
       "9           -5.86665           2.38843        -0.0414518          -4.01759   \n",
       "14          -4.35311           2.31715           1.61819          -2.29588   \n",
       "17          -3.97085          0.575094          -4.19718          -2.51546   \n",
       "19          -3.69325          0.100583          -3.69325          -1.39098   \n",
       "\n",
       "   ENSG00000231513.3 ENSG00000230882.1 ENSG00000205502.3 ENSG00000152785.6  \\\n",
       "5           -6.92714         -0.740952          -3.54606          -5.80459   \n",
       "9           -6.92714          -4.01759          -5.26208          -4.50961   \n",
       "14          -1.32529          -2.76961          -2.85203          -1.13267   \n",
       "17          -6.92714          -1.40123          -3.77526           1.74458   \n",
       "19          -6.92714         -0.604575          -2.04024          -2.21432   \n",
       "\n",
       "   ENSG00000128422.14 ENSG00000007038.9 ENSG00000102854.13 ENSG00000150760.11  \\\n",
       "5            -2.61702          -5.18099            8.26967           -3.71906   \n",
       "9              2.6217          -2.56667           -3.23314            4.88747   \n",
       "14           -5.93369            5.4402            9.59395           0.780897   \n",
       "17           -4.19718          -2.00596            1.42453            1.18704   \n",
       "19             -3.456           4.23272            3.60011             3.3435   \n",
       "\n",
       "   ENSG00000267453.5 ENSG00000170549.3 ENSG00000125869.8 ENSG00000267206.4  \\\n",
       "5           -6.92714          -6.92715            9.2241          -6.92714   \n",
       "9           -3.65137          -6.92715          -2.22838          -4.24272   \n",
       "14          -0.09466          -5.93369           2.95457          -4.93697   \n",
       "17          -2.11747          -0.80324         -0.669742          0.821764   \n",
       "19           1.85389          -3.69325           7.79429          -4.80175   \n",
       "\n",
       "   ENSG00000164176.11 ENSG00000204644.8        ...        ENSG00000242193.8  \\\n",
       "5            -5.18099          -6.92714        ...                   2.3578   \n",
       "9            -1.68256          -6.92714        ...                  2.92768   \n",
       "14           -4.93697           3.72152        ...                  3.21709   \n",
       "17           -2.95911          -5.83841        ...                 -2.17664   \n",
       "19           -5.50405          -6.92714        ...                  2.57623   \n",
       "\n",
       "   ENSG00000196209.11 ENSG00000176105.12 ENSG00000078596.9 ENSG00000234456.6  \\\n",
       "5             5.77491           0.126615          -1.44944          -3.54606   \n",
       "9             1.80214            4.88443            6.5013         0.0973502   \n",
       "14            3.93319            2.40627           5.51506          -1.51369   \n",
       "17           0.331454             4.7061           7.36038          -1.51117   \n",
       "19            5.11651          -0.406614           5.64471          -3.69325   \n",
       "\n",
       "   ENSG00000163600.11 ENSG00000165349.10 ENSG00000272168.4 ENSG00000158186.11  \\\n",
       "5            -2.53384           -6.92715           3.00333            4.02848   \n",
       "9           -0.787976           -6.92715           -2.4217          -0.660448   \n",
       "14            4.17283            -3.0325           4.14123            3.65313   \n",
       "17            3.75089            2.13663           1.54845          -0.587147   \n",
       "19            4.74498             -3.456           1.84836            2.84394   \n",
       "\n",
       "   ENSG00000235478.3 ENSG00000167641.9 ENSG00000133863.5 ENSG00000165731.16  \\\n",
       "5            2.75306          -1.17281          -1.17281            6.42192   \n",
       "9           -5.26208          -3.35954          -5.86665          -0.209853   \n",
       "14          -1.93985         -0.636317           -4.6157           0.960657   \n",
       "17          -2.85879          0.310063          -5.22504            -1.0575   \n",
       "19          0.291845           1.21153          -6.92715            3.95917   \n",
       "\n",
       "   ENSG00000163331.9 ENSG00000119121.20 ENSG00000166928.9 ENSG00000235098.7  \\\n",
       "5          -0.504794           -6.92715           3.45665          -4.14335   \n",
       "9          -0.856232           -6.92715           1.33056          -3.35954   \n",
       "14          -2.23932           -4.93697           4.78511          -2.85203   \n",
       "17          -4.79601           0.138638         -0.874927          -3.97085   \n",
       "19           2.73437           -5.50405           4.32711          -6.92714   \n",
       "\n",
       "   ENSG00000163735.6 ENSG00000169427.5 ENSG00000147614.3 ENSG00000264660.2  \\\n",
       "5           -3.71906          -3.71906           -3.1249          -6.92714   \n",
       "9           -3.82289          -5.26207          0.898223          -6.92714   \n",
       "14         -0.810793          -4.13103          -6.92715          -6.92714   \n",
       "17          -2.85879         -0.627853          -3.77526          -6.92714   \n",
       "19          -3.97734          -4.80175          -2.52256          -6.92714   \n",
       "\n",
       "   ENSG00000206588.1 ENSG00000172889.14 ENSG00000112303.12 ENSG00000134121.8  \\\n",
       "5            2.85303           0.782873           -2.53384          -1.52776   \n",
       "9           -5.86665            4.51667            1.39069          -6.92715   \n",
       "14          -4.93697             1.0987            3.56059          -2.48023   \n",
       "17          -3.18345            3.36008            2.94022          -1.14342   \n",
       "19          -2.64191            1.98557            5.35972          -6.92715   \n",
       "\n",
       "   ENSG00000213853.8 ENSG00000171016.10 ENSG00000184304.13 ENSG00000167748.9  \\\n",
       "5           -0.88817           -3.71906           -3.91566           6.43084   \n",
       "9           -2.22838           -2.28999           -5.26208           -2.4217   \n",
       "14          -4.35311           -3.93862           -6.92714         -0.730633   \n",
       "17          0.463264           -1.40123           -6.92714         -0.826742   \n",
       "19            -3.456           -6.92715           -6.92714           2.37573   \n",
       "\n",
       "   ENSG00000145864.11 ENSG00000211752.3 ENSG00000182632.13 ENSG00000207205.1  \\\n",
       "5            -2.61702          -4.74701           -5.80459           2.53682   \n",
       "9            -5.86665           1.92585           -6.92714          -4.24272   \n",
       "14           -5.93369          -2.13244           -6.92714          -2.03293   \n",
       "17           -4.46574          -1.71535           -5.83841         -0.669742   \n",
       "19           -6.92715         -0.906973           -6.92714         -0.329439   \n",
       "\n",
       "   ENSG00000106031.7 ENSG00000157510.12 ENSG00000145777.13 ENSG00000183850.12  \\\n",
       "5           -2.45519           -1.89207           -4.41384           -1.02348   \n",
       "9           -5.26207           -2.11254           -1.81215           0.267381   \n",
       "14          -5.35092           -4.35311           -2.08183           -4.93697   \n",
       "17            -2.765           -2.85879           -5.83841           0.255153   \n",
       "19          -6.92715             -3.456          -0.870068           -2.41233   \n",
       "\n",
       "   ENSG00000105366.14 ENSG00000169851.14 ENSG00000267886.1 ENSG00000101115.11  \\\n",
       "5            -1.99958           -5.80459         -0.284807           -0.88817   \n",
       "9            -4.83733           -5.86665         -0.452428             -2.645   \n",
       "14           -1.23957           -6.92715          -6.92714            -3.0325   \n",
       "17           -3.77526           -4.79601         -0.757354          -0.850633   \n",
       "19           -1.02371           -6.92715          -2.21432           -1.24209   \n",
       "\n",
       "   ENSG00000102230.12 ENSG00000101307.14 ENSG00000188282.11  \\\n",
       "5            -2.89989            7.51086           0.496696   \n",
       "9            -2.56667            3.04615           -2.72784   \n",
       "14           -2.13244            3.92005           0.269278   \n",
       "17          -0.416971            4.26539           -1.58941   \n",
       "19           -3.07386            7.18664           -2.04024   \n",
       "\n",
       "   ENSG00000134901.11 ENSG00000179776.16 ENSG00000134028.13  \\\n",
       "5            -2.79931           0.225427           -1.84117   \n",
       "9              2.8188           -3.35954          -0.318004   \n",
       "14           -2.23932           -4.93697            1.07659   \n",
       "17           0.999321          -0.264767            1.36873   \n",
       "19           -1.29004           -2.12465            1.85939   \n",
       "\n",
       "   ENSG00000120332.14 ENSG00000238243.3 ENSG00000267568.5  \n",
       "5            0.113774          -3.91566          -6.92714  \n",
       "9            0.972251           1.10383          -6.92714  \n",
       "14           -3.13197           -3.3542          -2.69164  \n",
       "17           -5.22504           1.28349          -2.95911  \n",
       "19           -2.52256          -2.64191          -2.04024  \n",
       "\n",
       "[5 rows x 1496 columns]"
      ]
     },
     "execution_count": 25,
     "metadata": {},
     "output_type": "execute_result"
    }
   ],
   "source": [
    "df.head()"
   ]
  },
  {
   "cell_type": "code",
   "execution_count": 29,
   "metadata": {},
   "outputs": [],
   "source": [
    "xg1_important = df.columns[np.array(xg1.feature_importances_) > 0]\n",
    "rf1_important = df.columns[np.array(rf1.feature_importances_) > 0]"
   ]
  },
  {
   "cell_type": "code",
   "execution_count": 30,
   "metadata": {},
   "outputs": [
    {
     "name": "stdout",
     "output_type": "stream",
     "text": [
      "205\n"
     ]
    },
    {
     "data": {
      "text/plain": [
       "697"
      ]
     },
     "execution_count": 30,
     "metadata": {},
     "output_type": "execute_result"
    }
   ],
   "source": [
    "print(len(xg1_important))\n",
    "len(rf1_important)"
   ]
  },
  {
   "cell_type": "markdown",
   "metadata": {},
   "source": [
    "### country frequency of genes being labeled 'important' by RF or XGboost"
   ]
  },
  {
   "cell_type": "code",
   "execution_count": 35,
   "metadata": {},
   "outputs": [],
   "source": [
    "xg_gene_counter = Counter()\n",
    "rf_gene_counter = Counter()"
   ]
  },
  {
   "cell_type": "code",
   "execution_count": 36,
   "metadata": {},
   "outputs": [],
   "source": [
    "for gene in xg1_important:\n",
    "    xg_gene_counter[gene] +=1\n",
    "for gene in rf1_important:\n",
    "    rf_gene_counter[gene] +=1"
   ]
  },
  {
   "cell_type": "markdown",
   "metadata": {},
   "source": [
    "### 1b. low variance genes between two labeled groups"
   ]
  },
  {
   "cell_type": "code",
   "execution_count": 38,
   "metadata": {},
   "outputs": [
    {
     "name": "stderr",
     "output_type": "stream",
     "text": [
      "/Users/david/statsbomb/RNAseq_Cancer_Biomarkers/scripts/model_comp.py:82: SettingWithCopyWarning: \n",
      "A value is trying to be set on a copy of a slice from a DataFrame.\n",
      "Try using .loc[row_indexer,col_indexer] = value instead\n",
      "\n",
      "See the caveats in the documentation: http://pandas.pydata.org/pandas-docs/stable/indexing.html#indexing-view-versus-copy\n",
      "  data['label'] = y.copy()\n",
      "[Parallel(n_jobs=1)]: Using backend SequentialBackend with 1 concurrent workers.\n"
     ]
    },
    {
     "name": "stdout",
     "output_type": "stream",
     "text": [
      "Ensemble Log Loss 0.4236865689681798\n",
      "Gradient Boost Log Loss 0.49256451159202913\n",
      "Random Forest Log Loss 0.48223471620602953\n",
      "XGBoost Log Loss 0.3429010650394736\n"
     ]
    },
    {
     "name": "stderr",
     "output_type": "stream",
     "text": [
      "[Parallel(n_jobs=1)]: Done 300 out of 300 | elapsed:    0.2s finished\n",
      "[Parallel(n_jobs=1)]: Using backend SequentialBackend with 1 concurrent workers.\n",
      "[Parallel(n_jobs=1)]: Done 300 out of 300 | elapsed:    0.0s finished\n"
     ]
    }
   ],
   "source": [
    "df, a = data_prep_columns(AML_genes, 'Min')\n",
    "X_train, X_test, y_train, y_test, holdout, df = model_prep(df, a)\n",
    "xg2, rf2 = model_comp(X_train, X_test, y_train, y_test)"
   ]
  },
  {
   "cell_type": "code",
   "execution_count": 39,
   "metadata": {},
   "outputs": [],
   "source": [
    "xg2_important = df.columns[np.array(xg2.feature_importances_) > 0]\n",
    "rf2_important = df.columns[np.array(rf2.feature_importances_) > 0]"
   ]
  },
  {
   "cell_type": "code",
   "execution_count": 40,
   "metadata": {},
   "outputs": [],
   "source": [
    "for gene in xg2_important:\n",
    "    xg_gene_counter[gene] +=1\n",
    "for gene in rf2_important:\n",
    "    rf_gene_counter[gene] +=1"
   ]
  },
  {
   "cell_type": "markdown",
   "metadata": {},
   "source": [
    "# 2.random gene selection\n",
    "\n",
    "- random_cols_ are **column index numbers** chosen at random\n",
    "\n",
    "- does not perform as well as the variation selected columns\n",
    "\n",
    "- use **model_prep** instead of **model_prep_loc** as random_columns_ is a randomly generated list of numbers \n",
    "used to select columns"
   ]
  },
  {
   "cell_type": "code",
   "execution_count": 53,
   "metadata": {},
   "outputs": [],
   "source": [
    "random_cols = np.random.choice(21404, 2000)\n",
    "random_set = set(random_cols)\n",
    "random_cols = list(random_set)\n",
    "random_cols_ = [x + 84 for x in random_cols]"
   ]
  },
  {
   "cell_type": "code",
   "execution_count": 57,
   "metadata": {},
   "outputs": [],
   "source": [
    "# random_cols_ are column index numbers"
   ]
  },
  {
   "cell_type": "code",
   "execution_count": 54,
   "metadata": {},
   "outputs": [
    {
     "data": {
      "text/plain": [
       "1912"
      ]
     },
     "execution_count": 54,
     "metadata": {},
     "output_type": "execute_result"
    }
   ],
   "source": [
    "len(random_cols_)"
   ]
  },
  {
   "cell_type": "code",
   "execution_count": 64,
   "metadata": {},
   "outputs": [
    {
     "name": "stderr",
     "output_type": "stream",
     "text": [
      "/Users/david/statsbomb/RNAseq_Cancer_Biomarkers/scripts/model_comp.py:100: SettingWithCopyWarning: \n",
      "A value is trying to be set on a copy of a slice from a DataFrame.\n",
      "Try using .loc[row_indexer,col_indexer] = value instead\n",
      "\n",
      "See the caveats in the documentation: http://pandas.pydata.org/pandas-docs/stable/indexing.html#indexing-view-versus-copy\n",
      "  holdout = data.sample(frac=.2, random_state=8)\n",
      "[Parallel(n_jobs=1)]: Using backend SequentialBackend with 1 concurrent workers.\n"
     ]
    },
    {
     "name": "stdout",
     "output_type": "stream",
     "text": [
      "Ensemble Log Loss 0.3516842391800261\n",
      "Gradient Boost Log Loss 0.42697625609573914\n",
      "Random Forest Log Loss 0.41377105849406226\n",
      "XGBoost Log Loss 0.29220552223961094\n"
     ]
    },
    {
     "name": "stderr",
     "output_type": "stream",
     "text": [
      "[Parallel(n_jobs=1)]: Done 300 out of 300 | elapsed:    0.2s finished\n",
      "[Parallel(n_jobs=1)]: Using backend SequentialBackend with 1 concurrent workers.\n",
      "[Parallel(n_jobs=1)]: Done 300 out of 300 | elapsed:    0.0s finished\n"
     ]
    }
   ],
   "source": [
    "df, __ = data_prep_columns(AML_genes, 'neither')\n",
    "X_train, X_test, y_train, y_test, holdout, df = model_prep(df, random_cols_)\n",
    "xg_random, rf_random = model_comp(X_train, X_test, y_train, y_test)"
   ]
  },
  {
   "cell_type": "code",
   "execution_count": null,
   "metadata": {},
   "outputs": [],
   "source": []
  },
  {
   "cell_type": "code",
   "execution_count": 65,
   "metadata": {},
   "outputs": [
    {
     "name": "stderr",
     "output_type": "stream",
     "text": [
      "/Users/david/statsbomb/RNAseq_Cancer_Biomarkers/scripts/model_comp.py:100: SettingWithCopyWarning: \n",
      "A value is trying to be set on a copy of a slice from a DataFrame.\n",
      "Try using .loc[row_indexer,col_indexer] = value instead\n",
      "\n",
      "See the caveats in the documentation: http://pandas.pydata.org/pandas-docs/stable/indexing.html#indexing-view-versus-copy\n",
      "  holdout = data.sample(frac=.2, random_state=8)\n",
      "[Parallel(n_jobs=1)]: Using backend SequentialBackend with 1 concurrent workers.\n"
     ]
    },
    {
     "name": "stdout",
     "output_type": "stream",
     "text": [
      "Ensemble Log Loss 0.4030763054992051\n",
      "Gradient Boost Log Loss 0.45468446485353564\n",
      "Random Forest Log Loss 0.40352478878670006\n",
      "XGBoost Log Loss 0.5104591532333477\n"
     ]
    },
    {
     "name": "stderr",
     "output_type": "stream",
     "text": [
      "[Parallel(n_jobs=1)]: Done 300 out of 300 | elapsed:    0.2s finished\n",
      "[Parallel(n_jobs=1)]: Using backend SequentialBackend with 1 concurrent workers.\n",
      "[Parallel(n_jobs=1)]: Done 300 out of 300 | elapsed:    0.0s finished\n"
     ]
    }
   ],
   "source": [
    "random_cols = np.random.choice(21404, 2000)\n",
    "random_set = set(random_cols)\n",
    "random_cols = list(random_set)\n",
    "random_cols_ = [x + 84 for x in random_cols]\n",
    "df, __ = data_prep_columns(AML_genes, 'neither')\n",
    "X_train, X_test, y_train, y_test, holdout, df = model_prep(df, random_cols_)\n",
    "xg_random2, rf_random2 = model_comp(X_train, X_test, y_train, y_test)"
   ]
  },
  {
   "cell_type": "code",
   "execution_count": 66,
   "metadata": {},
   "outputs": [
    {
     "name": "stderr",
     "output_type": "stream",
     "text": [
      "/Users/david/statsbomb/RNAseq_Cancer_Biomarkers/scripts/model_comp.py:100: SettingWithCopyWarning: \n",
      "A value is trying to be set on a copy of a slice from a DataFrame.\n",
      "Try using .loc[row_indexer,col_indexer] = value instead\n",
      "\n",
      "See the caveats in the documentation: http://pandas.pydata.org/pandas-docs/stable/indexing.html#indexing-view-versus-copy\n",
      "  holdout = data.sample(frac=.2, random_state=8)\n",
      "[Parallel(n_jobs=1)]: Using backend SequentialBackend with 1 concurrent workers.\n"
     ]
    },
    {
     "name": "stdout",
     "output_type": "stream",
     "text": [
      "Ensemble Log Loss 0.3878542167142077\n",
      "Gradient Boost Log Loss 0.4848117568424528\n",
      "Random Forest Log Loss 0.41450316331528253\n",
      "XGBoost Log Loss 0.3318681287000308\n"
     ]
    },
    {
     "name": "stderr",
     "output_type": "stream",
     "text": [
      "[Parallel(n_jobs=1)]: Done 300 out of 300 | elapsed:    0.3s finished\n",
      "[Parallel(n_jobs=1)]: Using backend SequentialBackend with 1 concurrent workers.\n",
      "[Parallel(n_jobs=1)]: Done 300 out of 300 | elapsed:    0.0s finished\n"
     ]
    }
   ],
   "source": [
    "random_cols = np.random.choice(21404, 2000)\n",
    "random_set = set(random_cols)\n",
    "random_cols = list(random_set)\n",
    "random_cols_ = [x + 84 for x in random_cols]\n",
    "df, __ = data_prep_columns(AML_genes, 'neither')\n",
    "X_train, X_test, y_train, y_test, holdout, df = model_prep(df, random_cols_)\n",
    "xg_random3, rf_rando3 = model_comp(X_train, X_test, y_train, y_test)"
   ]
  },
  {
   "cell_type": "markdown",
   "metadata": {},
   "source": [
    "# 3. Lasso Logistic Regression using all columns\n",
    "\n",
    "- lasso reduces to 3212 genes instead of 20,000+"
   ]
  },
  {
   "cell_type": "code",
   "execution_count": 69,
   "metadata": {},
   "outputs": [],
   "source": [
    "from sklearn.linear_model import LogisticRegression"
   ]
  },
  {
   "cell_type": "code",
   "execution_count": 70,
   "metadata": {},
   "outputs": [
    {
     "name": "stderr",
     "output_type": "stream",
     "text": [
      "/Users/david/anaconda3/lib/python3.6/site-packages/sklearn/linear_model/sag.py:334: ConvergenceWarning: The max_iter was reached which means the coef_ did not converge\n",
      "  \"the coef_ did not converge\", ConvergenceWarning)\n"
     ]
    },
    {
     "data": {
      "text/plain": [
       "0.21266221675736335"
      ]
     },
     "execution_count": 70,
     "metadata": {},
     "output_type": "execute_result"
    }
   ],
   "source": [
    "lasso_columns = df.iloc[:, 84:-4].columns\n",
    "df, __ = data_prep_columns(AML_genes, 'neither')\n",
    "X_train, X_test, y_train, y_test, holdout = model_prep_loc(df, lasso_columns)\n",
    "log_model = LogisticRegression(penalty='l1', solver='saga')\n",
    "log_model.fit(X_train, y_train)\n",
    "y_pred = log_model.predict_proba(X_test)\n",
    "log_loss(y_test, y_pred)"
   ]
  },
  {
   "cell_type": "code",
   "execution_count": 73,
   "metadata": {},
   "outputs": [],
   "source": [
    "log_coefs = np.array(log_model.coef_)\n",
    "mask = log_coefs > 0\n",
    "important_lasso_genes = lasso_columns[mask[0]]"
   ]
  },
  {
   "cell_type": "code",
   "execution_count": 74,
   "metadata": {},
   "outputs": [
    {
     "data": {
      "text/plain": [
       "3212"
      ]
     },
     "execution_count": 74,
     "metadata": {},
     "output_type": "execute_result"
    }
   ],
   "source": [
    "len(important_lasso_genes)"
   ]
  },
  {
   "cell_type": "code",
   "execution_count": null,
   "metadata": {},
   "outputs": [],
   "source": [
    "# for gene in important_lasso_genes:\n",
    "#     xg_gene_counter[gene] +=1\n",
    "#     rf_gene_counter[gene] +=1"
   ]
  },
  {
   "cell_type": "markdown",
   "metadata": {},
   "source": [
    "### 4. Trees Performance Using Lasso Genes"
   ]
  },
  {
   "cell_type": "code",
   "execution_count": 81,
   "metadata": {},
   "outputs": [
    {
     "name": "stderr",
     "output_type": "stream",
     "text": [
      "[Parallel(n_jobs=1)]: Using backend SequentialBackend with 1 concurrent workers.\n"
     ]
    },
    {
     "name": "stdout",
     "output_type": "stream",
     "text": [
      "Ensemble Log Loss 0.38184477879777423\n",
      "Gradient Boost Log Loss 0.43236141770308356\n",
      "Random Forest Log Loss 0.3916117319651301\n",
      "XGBoost Log Loss 0.38323753604010957\n"
     ]
    },
    {
     "name": "stderr",
     "output_type": "stream",
     "text": [
      "[Parallel(n_jobs=1)]: Done 300 out of 300 | elapsed:    0.3s finished\n",
      "[Parallel(n_jobs=1)]: Using backend SequentialBackend with 1 concurrent workers.\n",
      "[Parallel(n_jobs=1)]: Done 300 out of 300 | elapsed:    0.0s finished\n"
     ]
    }
   ],
   "source": [
    "df, __ = data_prep_columns(AML_genes, 'neither')\n",
    "X_train, X_test, y_train, y_test, X = model_prep_loc(df, important_lasso_genes)\n",
    "xg_lass, rf_lass = model_comp(X_train, X_test, y_train, y_test)"
   ]
  },
  {
   "cell_type": "code",
   "execution_count": 82,
   "metadata": {},
   "outputs": [],
   "source": [
    "xg_lass_important = X.columns[np.array(xg_lass.feature_importances_) > 0]\n",
    "rf_lass_important = X.columns[np.array(rf_lass.feature_importances_) > 0]"
   ]
  },
  {
   "cell_type": "code",
   "execution_count": 83,
   "metadata": {},
   "outputs": [],
   "source": [
    "for gene in xg_lass_important:\n",
    "    xg_gene_counter[gene] +=1\n",
    "for gene in rf_lass_important:\n",
    "    rf_gene_counter[gene] +=1"
   ]
  },
  {
   "cell_type": "code",
   "execution_count": null,
   "metadata": {},
   "outputs": [],
   "source": []
  },
  {
   "cell_type": "code",
   "execution_count": null,
   "metadata": {},
   "outputs": [],
   "source": []
  }
 ],
 "metadata": {
  "kernelspec": {
   "display_name": "Python 3",
   "language": "python",
   "name": "python3"
  },
  "language_info": {
   "codemirror_mode": {
    "name": "ipython",
    "version": 3
   },
   "file_extension": ".py",
   "mimetype": "text/x-python",
   "name": "python",
   "nbconvert_exporter": "python",
   "pygments_lexer": "ipython3",
   "version": "3.6.8"
  }
 },
 "nbformat": 4,
 "nbformat_minor": 2
}

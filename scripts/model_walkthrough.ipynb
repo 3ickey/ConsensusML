{
 "cells": [
  {
   "cell_type": "code",
   "execution_count": 32,
   "metadata": {},
   "outputs": [],
   "source": [
    "import numpy as np\n",
    "import pandas as pd\n",
    "from clean import manifest_clinical_merge\n",
    "from collections import Counter"
   ]
  },
  {
   "cell_type": "code",
   "execution_count": 2,
   "metadata": {},
   "outputs": [],
   "source": [
    "pd.set_option('display.max_columns', 100)"
   ]
  },
  {
   "cell_type": "markdown",
   "metadata": {},
   "source": [
    "# Data Prep"
   ]
  },
  {
   "cell_type": "code",
   "execution_count": 3,
   "metadata": {},
   "outputs": [
    {
     "name": "stderr",
     "output_type": "stream",
     "text": [
      "/Users/david/statsbomb/RNAseq_Cancer_Biomarkers/scripts/clean.py:16: SettingWithCopyWarning: \n",
      "A value is trying to be set on a copy of a slice from a DataFrame.\n",
      "Try using .loc[row_indexer,col_indexer] = value instead\n",
      "\n",
      "See the caveats in the documentation: http://pandas.pydata.org/pandas-docs/stable/indexing.html#indexing-view-versus-copy\n",
      "  target_df['TARGET USI'] = target_df.loc[:, 'entity_submitter_id'].apply(lambda x: x[:16])\n"
     ]
    }
   ],
   "source": [
    "manifest_df = pd.read_csv('../Manifest/GCD_TARGET_Data_Manifest_AML_NBL_WT_RT.csv')\n",
    "\n",
    "wt_disc_df = pd.read_excel('../Clinical_Data/TARGET_WT_ClinicalData_Discovery_20160714_public.xlsx')\n",
    "aml_disc_df = pd.read_excel('../Clinical_Data/TARGET_AML_ClinicalData_20160714.xlsx')\n",
    "nbl_disc_df = pd.read_excel('../Clinical_Data/TARGET_NBL_ClinicalData_20151124.xlsx')\n",
    "\n",
    "WT_df = manifest_clinical_merge(manifest_df, wt_disc_df, 'TARGET-WT')\n",
    "AML_df = manifest_clinical_merge(manifest_df, aml_disc_df, 'TARGET-AML')\n",
    "NBL_df = manifest_clinical_merge(manifest_df, nbl_disc_df, 'TARGET-NBL')"
   ]
  },
  {
   "cell_type": "code",
   "execution_count": 4,
   "metadata": {},
   "outputs": [],
   "source": [
    "from clean import assay_transpose"
   ]
  },
  {
   "cell_type": "code",
   "execution_count": 5,
   "metadata": {},
   "outputs": [],
   "source": [
    "assay_df = pd.read_csv('../TARGET_NBL_AML_RT_WT_TMMCPM_log2_Norm_Counts.csv')\n",
    "assay_t_df = assay_transpose(assay_df)"
   ]
  },
  {
   "cell_type": "code",
   "execution_count": 6,
   "metadata": {},
   "outputs": [],
   "source": [
    "from clean import assay_clinical_merge"
   ]
  },
  {
   "cell_type": "code",
   "execution_count": 7,
   "metadata": {},
   "outputs": [],
   "source": [
    "AML_genes = assay_clinical_merge(assay_t_df, AML_df)\n",
    "WT_genes = assay_clinical_merge(assay_t_df, WT_df)\n",
    "NBL_genes = assay_clinical_merge(assay_t_df, NBL_df)"
   ]
  },
  {
   "cell_type": "markdown",
   "metadata": {},
   "source": [
    "# Modeling on AML_genes\n",
    "\n",
    "## Classification - predict low_risk / not_low_risk in AML patients\n",
    "\n",
    "1) Variance comparison: Subset of patients under 03 09A classifcation - choosing 1000 genes of highest/lowest variance \n",
    "between labeled low_risk, not_low_risk group\n",
    "\n",
    "2) Model performance when randomly sampling genes\n",
    "\n",
    "3) Lasso logistic regression\n",
    "\n",
    "4) Tree modeling with features considered important by Lasso"
   ]
  },
  {
   "cell_type": "code",
   "execution_count": 46,
   "metadata": {},
   "outputs": [],
   "source": [
    "from model_comp import data_prep_columns, model_prep, model_comp, model_prep_loc, xgboost_tuner, create_model_df\n",
    "from sklearn.metrics import log_loss\n",
    "from sklearn.model_selection import train_test_split\n",
    "from sklearn.ensemble import  RandomForestClassifier, GradientBoostingClassifier\n",
    "from xgboost import XGBClassifier"
   ]
  },
  {
   "cell_type": "markdown",
   "metadata": {},
   "source": [
    "# 1. Variance Comparison\n",
    "\n",
    "### High Variance"
   ]
  },
  {
   "cell_type": "code",
   "execution_count": 215,
   "metadata": {},
   "outputs": [
    {
     "name": "stderr",
     "output_type": "stream",
     "text": [
      "/Users/david/statsbomb/RNAseq_Cancer_Biomarkers/scripts/model_comp.py:100: SettingWithCopyWarning: \n",
      "A value is trying to be set on a copy of a slice from a DataFrame.\n",
      "Try using .loc[row_indexer,col_indexer] = value instead\n",
      "\n",
      "See the caveats in the documentation: http://pandas.pydata.org/pandas-docs/stable/indexing.html#indexing-view-versus-copy\n",
      "  data['label'] = y.copy()\n",
      "[Parallel(n_jobs=1)]: Using backend SequentialBackend with 1 concurrent workers.\n"
     ]
    },
    {
     "name": "stdout",
     "output_type": "stream",
     "text": [
      "Ensemble Log Loss 0.28771180389607903\n",
      "Gradient Boost Log Loss 0.36210740308746076\n",
      "Random Forest Log Loss 0.3262005795045274\n",
      "XGBoost Log Loss 0.22184269636164647\n"
     ]
    },
    {
     "name": "stderr",
     "output_type": "stream",
     "text": [
      "[Parallel(n_jobs=1)]: Done 300 out of 300 | elapsed:    0.2s finished\n",
      "[Parallel(n_jobs=1)]: Using backend SequentialBackend with 1 concurrent workers.\n",
      "[Parallel(n_jobs=1)]: Done 300 out of 300 | elapsed:    0.0s finished\n"
     ]
    }
   ],
   "source": [
    "df, a = data_prep_columns(AML_genes, 'Max')\n",
    "X_train, X_test, y_train, y_test, holdout, X = model_prep(df, a)\n",
    "xg1, rf1 = model_comp(X_train, X_test, y_train, y_test)"
   ]
  },
  {
   "cell_type": "code",
   "execution_count": 216,
   "metadata": {},
   "outputs": [
    {
     "data": {
      "text/html": [
       "<div>\n",
       "<style scoped>\n",
       "    .dataframe tbody tr th:only-of-type {\n",
       "        vertical-align: middle;\n",
       "    }\n",
       "\n",
       "    .dataframe tbody tr th {\n",
       "        vertical-align: top;\n",
       "    }\n",
       "\n",
       "    .dataframe thead th {\n",
       "        text-align: right;\n",
       "    }\n",
       "</style>\n",
       "<table border=\"1\" class=\"dataframe\">\n",
       "  <thead>\n",
       "    <tr style=\"text-align: right;\">\n",
       "      <th></th>\n",
       "      <th>TARGET USI</th>\n",
       "      <th>Diagnostic ID</th>\n",
       "      <th>Gender</th>\n",
       "      <th>Race</th>\n",
       "      <th>Ethnicity</th>\n",
       "      <th>Age at Diagnosis in Days</th>\n",
       "      <th>First Event</th>\n",
       "      <th>Event Free Survival Time in Days</th>\n",
       "      <th>Vital Status</th>\n",
       "      <th>Overall Survival Time in Days</th>\n",
       "      <th>Year of Diagnosis</th>\n",
       "      <th>Year of Last Follow Up</th>\n",
       "      <th>Protocol</th>\n",
       "      <th>WBC at Diagnosis</th>\n",
       "      <th>Bone marrow leukemic blast percentage (%)</th>\n",
       "      <th>Peripheral blasts (%)</th>\n",
       "      <th>CNS disease</th>\n",
       "      <th>Chloroma</th>\n",
       "      <th>FAB Category</th>\n",
       "      <th>t(6;9)</th>\n",
       "      <th>t(8;21)</th>\n",
       "      <th>t(3;5)(q25;q34)</th>\n",
       "      <th>t(6;11)(q27;q23)</th>\n",
       "      <th>t(9;11)(p22;q23)</th>\n",
       "      <th>t(10;11)(p11.2;q23)</th>\n",
       "      <th>t(11:19)(q23:p13.1)</th>\n",
       "      <th>inv(16)</th>\n",
       "      <th>del5q</th>\n",
       "      <th>del7q</th>\n",
       "      <th>del9q</th>\n",
       "      <th>monosomy 5</th>\n",
       "      <th>monosomy 7</th>\n",
       "      <th>trisomy 8</th>\n",
       "      <th>trisomy 21</th>\n",
       "      <th>MLL</th>\n",
       "      <th>Minus Y</th>\n",
       "      <th>Minus X</th>\n",
       "      <th>Cytogenetic Code Other</th>\n",
       "      <th>Cytogenetic Complexity</th>\n",
       "      <th>Primary Cytogenetic Code</th>\n",
       "      <th>ISCN</th>\n",
       "      <th>FLT3/ITD positive?</th>\n",
       "      <th>FLT3/ITD allelic ratio</th>\n",
       "      <th>FLT3 PM</th>\n",
       "      <th>NPM mutation</th>\n",
       "      <th>CEBPA mutation</th>\n",
       "      <th>WT1 mutation</th>\n",
       "      <th>c-Kit Mutation Exon 8</th>\n",
       "      <th>c-Kit Mutation Exon 17</th>\n",
       "      <th>MRD at end of course 1</th>\n",
       "      <th>...</th>\n",
       "      <th>ENSG00000280913.1</th>\n",
       "      <th>ENSG00000280916.1</th>\n",
       "      <th>ENSG00000280927.1</th>\n",
       "      <th>ENSG00000280936.1</th>\n",
       "      <th>ENSG00000280953.1</th>\n",
       "      <th>ENSG00000280987.1</th>\n",
       "      <th>ENSG00000281005.1</th>\n",
       "      <th>ENSG00000281021.1</th>\n",
       "      <th>ENSG00000281026.1</th>\n",
       "      <th>ENSG00000281100.1</th>\n",
       "      <th>ENSG00000281103.1</th>\n",
       "      <th>ENSG00000281106.1</th>\n",
       "      <th>ENSG00000281128.1</th>\n",
       "      <th>ENSG00000281131.1</th>\n",
       "      <th>ENSG00000281183.1</th>\n",
       "      <th>ENSG00000281189.1</th>\n",
       "      <th>ENSG00000281195.1</th>\n",
       "      <th>ENSG00000281205.1</th>\n",
       "      <th>ENSG00000281207.1</th>\n",
       "      <th>ENSG00000281332.1</th>\n",
       "      <th>ENSG00000281344.1</th>\n",
       "      <th>ENSG00000281357.1</th>\n",
       "      <th>ENSG00000281358.1</th>\n",
       "      <th>ENSG00000281376.1</th>\n",
       "      <th>ENSG00000281383.1</th>\n",
       "      <th>ENSG00000281392.1</th>\n",
       "      <th>ENSG00000281398.1</th>\n",
       "      <th>ENSG00000281404.1</th>\n",
       "      <th>ENSG00000281406.1</th>\n",
       "      <th>ENSG00000281433.1</th>\n",
       "      <th>ENSG00000281445.1</th>\n",
       "      <th>ENSG00000281468.1</th>\n",
       "      <th>ENSG00000281490.1</th>\n",
       "      <th>ENSG00000281501.1</th>\n",
       "      <th>ENSG00000281527.1</th>\n",
       "      <th>ENSG00000281538.1</th>\n",
       "      <th>ENSG00000281555.1</th>\n",
       "      <th>ENSG00000281571.1</th>\n",
       "      <th>ENSG00000281628.1</th>\n",
       "      <th>ENSG00000281649.1</th>\n",
       "      <th>ENSG00000281691.1</th>\n",
       "      <th>ENSG00000281706.1</th>\n",
       "      <th>ENSG00000281741.1</th>\n",
       "      <th>ENSG00000281789.1</th>\n",
       "      <th>ENSG00000281896.1</th>\n",
       "      <th>ENSG00000281912.1</th>\n",
       "      <th>__no_feature</th>\n",
       "      <th>__ambiguous</th>\n",
       "      <th>__alignment_not_unique</th>\n",
       "      <th>Low Risk</th>\n",
       "    </tr>\n",
       "  </thead>\n",
       "  <tbody>\n",
       "    <tr>\n",
       "      <th>3</th>\n",
       "      <td>TARGET-20-PADZCG</td>\n",
       "      <td>09A</td>\n",
       "      <td>Female</td>\n",
       "      <td>Unknown</td>\n",
       "      <td>Not Hispanic or Latino</td>\n",
       "      <td>5325</td>\n",
       "      <td>Relapse</td>\n",
       "      <td>314</td>\n",
       "      <td>Dead</td>\n",
       "      <td>536</td>\n",
       "      <td>1996</td>\n",
       "      <td>1998</td>\n",
       "      <td>CCG-2961</td>\n",
       "      <td>29.3</td>\n",
       "      <td>58</td>\n",
       "      <td>5</td>\n",
       "      <td>No</td>\n",
       "      <td>No</td>\n",
       "      <td>M4</td>\n",
       "      <td>No</td>\n",
       "      <td>No</td>\n",
       "      <td>No</td>\n",
       "      <td>No</td>\n",
       "      <td>No</td>\n",
       "      <td>No</td>\n",
       "      <td>No</td>\n",
       "      <td>No</td>\n",
       "      <td>No</td>\n",
       "      <td>No</td>\n",
       "      <td>No</td>\n",
       "      <td>No</td>\n",
       "      <td>No</td>\n",
       "      <td>No</td>\n",
       "      <td>No</td>\n",
       "      <td>No</td>\n",
       "      <td>No</td>\n",
       "      <td>No</td>\n",
       "      <td></td>\n",
       "      <td>0</td>\n",
       "      <td>Normal</td>\n",
       "      <td>46,XX[20]</td>\n",
       "      <td>No</td>\n",
       "      <td>NaN</td>\n",
       "      <td>No</td>\n",
       "      <td>No</td>\n",
       "      <td>No</td>\n",
       "      <td>No</td>\n",
       "      <td>Not done</td>\n",
       "      <td>Not done</td>\n",
       "      <td>Unknown</td>\n",
       "      <td>...</td>\n",
       "      <td>-2.42284</td>\n",
       "      <td>0.314777</td>\n",
       "      <td>1.74517</td>\n",
       "      <td>-6.92714</td>\n",
       "      <td>-6.12136</td>\n",
       "      <td>1.40683</td>\n",
       "      <td>0.995511</td>\n",
       "      <td>-0.223406</td>\n",
       "      <td>2.2914</td>\n",
       "      <td>-0.613341</td>\n",
       "      <td>3.9011</td>\n",
       "      <td>1.61224</td>\n",
       "      <td>-4.6821</td>\n",
       "      <td>-6.92714</td>\n",
       "      <td>0.8846</td>\n",
       "      <td>-2.4712</td>\n",
       "      <td>0.732776</td>\n",
       "      <td>0.678398</td>\n",
       "      <td>0.391151</td>\n",
       "      <td>1.82242</td>\n",
       "      <td>1.4786</td>\n",
       "      <td>1.37983</td>\n",
       "      <td>0.894175</td>\n",
       "      <td>-1.11056</td>\n",
       "      <td>-0.330849</td>\n",
       "      <td>0.0915962</td>\n",
       "      <td>1.95643</td>\n",
       "      <td>-0.547052</td>\n",
       "      <td>-6.92714</td>\n",
       "      <td>-1.45498</td>\n",
       "      <td>1.12314</td>\n",
       "      <td>-2.93057</td>\n",
       "      <td>2.9388</td>\n",
       "      <td>1.76878</td>\n",
       "      <td>0.580973</td>\n",
       "      <td>-0.832714</td>\n",
       "      <td>-1.78095</td>\n",
       "      <td>0.132623</td>\n",
       "      <td>-0.682824</td>\n",
       "      <td>5.46561</td>\n",
       "      <td>-0.330849</td>\n",
       "      <td>-1.84323</td>\n",
       "      <td>-0.801464</td>\n",
       "      <td>-0.364707</td>\n",
       "      <td>2.1646</td>\n",
       "      <td>-0.152689</td>\n",
       "      <td>17.1243</td>\n",
       "      <td>14.6061</td>\n",
       "      <td>17.8527</td>\n",
       "      <td>0</td>\n",
       "    </tr>\n",
       "    <tr>\n",
       "      <th>5</th>\n",
       "      <td>TARGET-20-PAEAKL</td>\n",
       "      <td>09A</td>\n",
       "      <td>Female</td>\n",
       "      <td>Black or African American</td>\n",
       "      <td>Not Hispanic or Latino</td>\n",
       "      <td>5218</td>\n",
       "      <td>Relapse</td>\n",
       "      <td>134</td>\n",
       "      <td>Dead</td>\n",
       "      <td>163</td>\n",
       "      <td>1997</td>\n",
       "      <td>1997</td>\n",
       "      <td>CCG-2961</td>\n",
       "      <td>96.1</td>\n",
       "      <td>80</td>\n",
       "      <td>81</td>\n",
       "      <td>Yes</td>\n",
       "      <td>No</td>\n",
       "      <td>M5</td>\n",
       "      <td>No</td>\n",
       "      <td>No</td>\n",
       "      <td>No</td>\n",
       "      <td>No</td>\n",
       "      <td>Yes</td>\n",
       "      <td>No</td>\n",
       "      <td>Yes</td>\n",
       "      <td>No</td>\n",
       "      <td>No</td>\n",
       "      <td>No</td>\n",
       "      <td>No</td>\n",
       "      <td>No</td>\n",
       "      <td>No</td>\n",
       "      <td>No</td>\n",
       "      <td>No</td>\n",
       "      <td>Yes</td>\n",
       "      <td>No</td>\n",
       "      <td>No</td>\n",
       "      <td></td>\n",
       "      <td>1</td>\n",
       "      <td>MLL</td>\n",
       "      <td>46,XX,t(11:19)(q23:p13.1)[20]</td>\n",
       "      <td>No</td>\n",
       "      <td>NaN</td>\n",
       "      <td>No</td>\n",
       "      <td>No</td>\n",
       "      <td>No</td>\n",
       "      <td>No</td>\n",
       "      <td>Not done</td>\n",
       "      <td>Not done</td>\n",
       "      <td>Unknown</td>\n",
       "      <td>...</td>\n",
       "      <td>-5.80459</td>\n",
       "      <td>-6.92714</td>\n",
       "      <td>1.03526</td>\n",
       "      <td>-6.92714</td>\n",
       "      <td>-6.92714</td>\n",
       "      <td>0.113774</td>\n",
       "      <td>1.32433</td>\n",
       "      <td>-4.41384</td>\n",
       "      <td>0.664587</td>\n",
       "      <td>-6.92714</td>\n",
       "      <td>1.21435</td>\n",
       "      <td>-6.92714</td>\n",
       "      <td>-6.92714</td>\n",
       "      <td>-5.80459</td>\n",
       "      <td>-0.0939682</td>\n",
       "      <td>-2.53384</td>\n",
       "      <td>-1.48807</td>\n",
       "      <td>-4.14335</td>\n",
       "      <td>-1.05214</td>\n",
       "      <td>0.929309</td>\n",
       "      <td>0.340124</td>\n",
       "      <td>0.95113</td>\n",
       "      <td>1.78753</td>\n",
       "      <td>-0.202203</td>\n",
       "      <td>6.32096</td>\n",
       "      <td>-0.544956</td>\n",
       "      <td>1.04881</td>\n",
       "      <td>0.496696</td>\n",
       "      <td>-6.92714</td>\n",
       "      <td>-2.79931</td>\n",
       "      <td>-0.914236</td>\n",
       "      <td>-1.94482</td>\n",
       "      <td>1.12118</td>\n",
       "      <td>3.16766</td>\n",
       "      <td>-2.61702</td>\n",
       "      <td>-1.89207</td>\n",
       "      <td>-3.1249</td>\n",
       "      <td>1.05554</td>\n",
       "      <td>-1.94482</td>\n",
       "      <td>3.83862</td>\n",
       "      <td>-2.17756</td>\n",
       "      <td>-0.717812</td>\n",
       "      <td>-0.88817</td>\n",
       "      <td>1.75482</td>\n",
       "      <td>0.456577</td>\n",
       "      <td>0.965496</td>\n",
       "      <td>16.7942</td>\n",
       "      <td>15.3635</td>\n",
       "      <td>19.6702</td>\n",
       "      <td>0</td>\n",
       "    </tr>\n",
       "    <tr>\n",
       "      <th>9</th>\n",
       "      <td>TARGET-20-PAEERJ</td>\n",
       "      <td>09A</td>\n",
       "      <td>Female</td>\n",
       "      <td>White</td>\n",
       "      <td>Not Hispanic or Latino</td>\n",
       "      <td>5082</td>\n",
       "      <td>Relapse</td>\n",
       "      <td>259</td>\n",
       "      <td>Dead</td>\n",
       "      <td>373</td>\n",
       "      <td>1997</td>\n",
       "      <td>1998</td>\n",
       "      <td>CCG-2961</td>\n",
       "      <td>71.9</td>\n",
       "      <td>60</td>\n",
       "      <td>41</td>\n",
       "      <td>No</td>\n",
       "      <td>No</td>\n",
       "      <td>M4</td>\n",
       "      <td>No</td>\n",
       "      <td>No</td>\n",
       "      <td>Yes</td>\n",
       "      <td>No</td>\n",
       "      <td>No</td>\n",
       "      <td>No</td>\n",
       "      <td>No</td>\n",
       "      <td>No</td>\n",
       "      <td>No</td>\n",
       "      <td>No</td>\n",
       "      <td>No</td>\n",
       "      <td>No</td>\n",
       "      <td>No</td>\n",
       "      <td>No</td>\n",
       "      <td>No</td>\n",
       "      <td>No</td>\n",
       "      <td>No</td>\n",
       "      <td>No</td>\n",
       "      <td></td>\n",
       "      <td>1</td>\n",
       "      <td>Other</td>\n",
       "      <td>46,XX,t(3:5)(q23:q33)[19]/46,XX[1]</td>\n",
       "      <td>Yes</td>\n",
       "      <td>0.55</td>\n",
       "      <td>No</td>\n",
       "      <td>No</td>\n",
       "      <td>No</td>\n",
       "      <td>Yes</td>\n",
       "      <td>Not done</td>\n",
       "      <td>Not done</td>\n",
       "      <td>Unknown</td>\n",
       "      <td>...</td>\n",
       "      <td>-3.82289</td>\n",
       "      <td>-3.00939</td>\n",
       "      <td>2.17987</td>\n",
       "      <td>-6.92714</td>\n",
       "      <td>-6.92714</td>\n",
       "      <td>1.94937</td>\n",
       "      <td>-1.00327</td>\n",
       "      <td>0.722174</td>\n",
       "      <td>3.02575</td>\n",
       "      <td>-3.82289</td>\n",
       "      <td>4.43513</td>\n",
       "      <td>-3.49809</td>\n",
       "      <td>-6.92714</td>\n",
       "      <td>-6.92714</td>\n",
       "      <td>1.32028</td>\n",
       "      <td>-4.50961</td>\n",
       "      <td>1.67087</td>\n",
       "      <td>-2.35434</td>\n",
       "      <td>-0.680935</td>\n",
       "      <td>1.47645</td>\n",
       "      <td>1.32543</td>\n",
       "      <td>0.512625</td>\n",
       "      <td>0.884345</td>\n",
       "      <td>-0.488087</td>\n",
       "      <td>-1.00327</td>\n",
       "      <td>-1.25643</td>\n",
       "      <td>2.91237</td>\n",
       "      <td>-0.209853</td>\n",
       "      <td>-6.92714</td>\n",
       "      <td>-1.35175</td>\n",
       "      <td>-0.0681887</td>\n",
       "      <td>-2.81572</td>\n",
       "      <td>-0.0817453</td>\n",
       "      <td>0.557041</td>\n",
       "      <td>0.30953</td>\n",
       "      <td>-2.56667</td>\n",
       "      <td>-1.85807</td>\n",
       "      <td>-0.470147</td>\n",
       "      <td>1.27314</td>\n",
       "      <td>6.07709</td>\n",
       "      <td>0.768241</td>\n",
       "      <td>-0.600677</td>\n",
       "      <td>-1.56366</td>\n",
       "      <td>-0.506252</td>\n",
       "      <td>2.3282</td>\n",
       "      <td>-2.90931</td>\n",
       "      <td>16.916</td>\n",
       "      <td>14.5652</td>\n",
       "      <td>17.571</td>\n",
       "      <td>0</td>\n",
       "    </tr>\n",
       "    <tr>\n",
       "      <th>10</th>\n",
       "      <td>TARGET-20-PAEFGR</td>\n",
       "      <td>09A</td>\n",
       "      <td>Female</td>\n",
       "      <td>White</td>\n",
       "      <td>Not Hispanic or Latino</td>\n",
       "      <td>549</td>\n",
       "      <td>Relapse</td>\n",
       "      <td>497</td>\n",
       "      <td>Alive</td>\n",
       "      <td>4022</td>\n",
       "      <td>1997</td>\n",
       "      <td>2008</td>\n",
       "      <td>CCG-2961</td>\n",
       "      <td>51.2</td>\n",
       "      <td>75</td>\n",
       "      <td>41</td>\n",
       "      <td>No</td>\n",
       "      <td>No</td>\n",
       "      <td>M2</td>\n",
       "      <td>No</td>\n",
       "      <td>No</td>\n",
       "      <td>No</td>\n",
       "      <td>No</td>\n",
       "      <td>No</td>\n",
       "      <td>No</td>\n",
       "      <td>No</td>\n",
       "      <td>Yes</td>\n",
       "      <td>No</td>\n",
       "      <td>No</td>\n",
       "      <td>No</td>\n",
       "      <td>No</td>\n",
       "      <td>No</td>\n",
       "      <td>No</td>\n",
       "      <td>No</td>\n",
       "      <td>No</td>\n",
       "      <td>No</td>\n",
       "      <td>No</td>\n",
       "      <td></td>\n",
       "      <td>1</td>\n",
       "      <td>inv(16)</td>\n",
       "      <td>46,XX,inv(16)(p13q22)[21]/46,XX[1]</td>\n",
       "      <td>No</td>\n",
       "      <td>NaN</td>\n",
       "      <td>No</td>\n",
       "      <td>No</td>\n",
       "      <td>No</td>\n",
       "      <td>No</td>\n",
       "      <td>Yes</td>\n",
       "      <td>No</td>\n",
       "      <td>Unknown</td>\n",
       "      <td>...</td>\n",
       "      <td>-3.84721</td>\n",
       "      <td>-6.92714</td>\n",
       "      <td>2.06681</td>\n",
       "      <td>-6.92714</td>\n",
       "      <td>-6.92714</td>\n",
       "      <td>3.00886</td>\n",
       "      <td>0.439416</td>\n",
       "      <td>1.58251</td>\n",
       "      <td>3.39861</td>\n",
       "      <td>-1.60007</td>\n",
       "      <td>0.97725</td>\n",
       "      <td>-4.20646</td>\n",
       "      <td>-5.40914</td>\n",
       "      <td>-5.40914</td>\n",
       "      <td>1.22423</td>\n",
       "      <td>-3.32027</td>\n",
       "      <td>2.17352</td>\n",
       "      <td>-4.20646</td>\n",
       "      <td>-0.369531</td>\n",
       "      <td>0.518673</td>\n",
       "      <td>-0.259634</td>\n",
       "      <td>0.651209</td>\n",
       "      <td>1.26157</td>\n",
       "      <td>-0.488494</td>\n",
       "      <td>-0.369531</td>\n",
       "      <td>-1.47196</td>\n",
       "      <td>4.20787</td>\n",
       "      <td>-1.3543</td>\n",
       "      <td>-5.40914</td>\n",
       "      <td>-1.24551</td>\n",
       "      <td>2.43284</td>\n",
       "      <td>-3.55981</td>\n",
       "      <td>0.00544204</td>\n",
       "      <td>-0.618155</td>\n",
       "      <td>0.835853</td>\n",
       "      <td>-2.93514</td>\n",
       "      <td>-1.8965</td>\n",
       "      <td>0.471643</td>\n",
       "      <td>0.210317</td>\n",
       "      <td>6.03917</td>\n",
       "      <td>1.64743</td>\n",
       "      <td>-3.84721</td>\n",
       "      <td>1.08534</td>\n",
       "      <td>-2.16718</td>\n",
       "      <td>3.11978</td>\n",
       "      <td>-1.81649</td>\n",
       "      <td>17.6644</td>\n",
       "      <td>14.8379</td>\n",
       "      <td>18.3827</td>\n",
       "      <td>1</td>\n",
       "    </tr>\n",
       "    <tr>\n",
       "      <th>12</th>\n",
       "      <td>TARGET-20-PAEFGT</td>\n",
       "      <td>03A</td>\n",
       "      <td>Female</td>\n",
       "      <td>White</td>\n",
       "      <td>Not Hispanic or Latino</td>\n",
       "      <td>5452</td>\n",
       "      <td>Relapse</td>\n",
       "      <td>213</td>\n",
       "      <td>Dead</td>\n",
       "      <td>315</td>\n",
       "      <td>1997</td>\n",
       "      <td>1998</td>\n",
       "      <td>CCG-2961</td>\n",
       "      <td>11.4</td>\n",
       "      <td>100</td>\n",
       "      <td>70</td>\n",
       "      <td>No</td>\n",
       "      <td>No</td>\n",
       "      <td>M2</td>\n",
       "      <td>Unknown</td>\n",
       "      <td>Unknown</td>\n",
       "      <td>Unknown</td>\n",
       "      <td>Unknown</td>\n",
       "      <td>Unknown</td>\n",
       "      <td>Unknown</td>\n",
       "      <td>Unknown</td>\n",
       "      <td>Unknown</td>\n",
       "      <td>Unknown</td>\n",
       "      <td>Unknown</td>\n",
       "      <td>Unknown</td>\n",
       "      <td>Unknown</td>\n",
       "      <td>Unknown</td>\n",
       "      <td>Unknown</td>\n",
       "      <td>Unknown</td>\n",
       "      <td>Unknown</td>\n",
       "      <td>Unknown</td>\n",
       "      <td>Unknown</td>\n",
       "      <td></td>\n",
       "      <td>0</td>\n",
       "      <td>Unknown</td>\n",
       "      <td>I</td>\n",
       "      <td>Yes</td>\n",
       "      <td>0.83</td>\n",
       "      <td>No</td>\n",
       "      <td>Unknown</td>\n",
       "      <td>No</td>\n",
       "      <td>Yes</td>\n",
       "      <td>Not done</td>\n",
       "      <td>Not done</td>\n",
       "      <td>Unknown</td>\n",
       "      <td>...</td>\n",
       "      <td>-3.67684</td>\n",
       "      <td>-4.0422</td>\n",
       "      <td>1.47104</td>\n",
       "      <td>-6.92714</td>\n",
       "      <td>-6.92714</td>\n",
       "      <td>4.29801</td>\n",
       "      <td>-1.79528</td>\n",
       "      <td>1.0018</td>\n",
       "      <td>1.82454</td>\n",
       "      <td>-2.75471</td>\n",
       "      <td>4.68013</td>\n",
       "      <td>-2.75471</td>\n",
       "      <td>-6.92714</td>\n",
       "      <td>-6.92714</td>\n",
       "      <td>1.37701</td>\n",
       "      <td>-5.28148</td>\n",
       "      <td>0.260374</td>\n",
       "      <td>-3.38555</td>\n",
       "      <td>-1.41279</td>\n",
       "      <td>0.301911</td>\n",
       "      <td>-0.463034</td>\n",
       "      <td>2.06064</td>\n",
       "      <td>0.693889</td>\n",
       "      <td>-0.0433916</td>\n",
       "      <td>1.3376</td>\n",
       "      <td>-1.16631</td>\n",
       "      <td>5.35495</td>\n",
       "      <td>0.72476</td>\n",
       "      <td>-6.92714</td>\n",
       "      <td>-1.55386</td>\n",
       "      <td>1.7364</td>\n",
       "      <td>-2.75471</td>\n",
       "      <td>-1.4816</td>\n",
       "      <td>0.419797</td>\n",
       "      <td>0.128065</td>\n",
       "      <td>-2.5937</td>\n",
       "      <td>-1.79528</td>\n",
       "      <td>1.22335</td>\n",
       "      <td>0.362058</td>\n",
       "      <td>6.54411</td>\n",
       "      <td>0.646308</td>\n",
       "      <td>-0.395081</td>\n",
       "      <td>-1.28429</td>\n",
       "      <td>-0.907716</td>\n",
       "      <td>2.45055</td>\n",
       "      <td>-1.55386</td>\n",
       "      <td>17.2728</td>\n",
       "      <td>14.9232</td>\n",
       "      <td>18.3348</td>\n",
       "      <td>0</td>\n",
       "    </tr>\n",
       "  </tbody>\n",
       "</table>\n",
       "<p>5 rows × 21492 columns</p>\n",
       "</div>"
      ],
      "text/plain": [
       "          TARGET USI Diagnostic ID  Gender                       Race  \\\n",
       "3   TARGET-20-PADZCG           09A  Female                    Unknown   \n",
       "5   TARGET-20-PAEAKL           09A  Female  Black or African American   \n",
       "9   TARGET-20-PAEERJ           09A  Female                      White   \n",
       "10  TARGET-20-PAEFGR           09A  Female                      White   \n",
       "12  TARGET-20-PAEFGT           03A  Female                      White   \n",
       "\n",
       "                 Ethnicity  Age at Diagnosis in Days First Event  \\\n",
       "3   Not Hispanic or Latino                      5325     Relapse   \n",
       "5   Not Hispanic or Latino                      5218     Relapse   \n",
       "9   Not Hispanic or Latino                      5082     Relapse   \n",
       "10  Not Hispanic or Latino                       549     Relapse   \n",
       "12  Not Hispanic or Latino                      5452     Relapse   \n",
       "\n",
       "    Event Free Survival Time in Days Vital Status  \\\n",
       "3                                314         Dead   \n",
       "5                                134         Dead   \n",
       "9                                259         Dead   \n",
       "10                               497        Alive   \n",
       "12                               213         Dead   \n",
       "\n",
       "    Overall Survival Time in Days  Year of Diagnosis  Year of Last Follow Up  \\\n",
       "3                             536               1996                    1998   \n",
       "5                             163               1997                    1997   \n",
       "9                             373               1997                    1998   \n",
       "10                           4022               1997                    2008   \n",
       "12                            315               1997                    1998   \n",
       "\n",
       "    Protocol  WBC at Diagnosis Bone marrow leukemic blast percentage (%)  \\\n",
       "3   CCG-2961              29.3                                        58   \n",
       "5   CCG-2961              96.1                                        80   \n",
       "9   CCG-2961              71.9                                        60   \n",
       "10  CCG-2961              51.2                                        75   \n",
       "12  CCG-2961              11.4                                       100   \n",
       "\n",
       "   Peripheral blasts (%) CNS disease Chloroma FAB Category   t(6;9)  t(8;21)  \\\n",
       "3                      5          No       No           M4       No       No   \n",
       "5                     81         Yes       No           M5       No       No   \n",
       "9                     41          No       No           M4       No       No   \n",
       "10                    41          No       No           M2       No       No   \n",
       "12                    70          No       No           M2  Unknown  Unknown   \n",
       "\n",
       "   t(3;5)(q25;q34) t(6;11)(q27;q23) t(9;11)(p22;q23) t(10;11)(p11.2;q23)  \\\n",
       "3               No               No               No                  No   \n",
       "5               No               No              Yes                  No   \n",
       "9              Yes               No               No                  No   \n",
       "10              No               No               No                  No   \n",
       "12         Unknown          Unknown          Unknown             Unknown   \n",
       "\n",
       "   t(11:19)(q23:p13.1)  inv(16)    del5q    del7q    del9q monosomy 5  \\\n",
       "3                   No       No       No       No       No         No   \n",
       "5                  Yes       No       No       No       No         No   \n",
       "9                   No       No       No       No       No         No   \n",
       "10                  No      Yes       No       No       No         No   \n",
       "12             Unknown  Unknown  Unknown  Unknown  Unknown    Unknown   \n",
       "\n",
       "   monosomy 7 trisomy 8 trisomy 21      MLL  Minus Y  Minus X  \\\n",
       "3          No        No         No       No       No       No   \n",
       "5          No        No         No      Yes       No       No   \n",
       "9          No        No         No       No       No       No   \n",
       "10         No        No         No       No       No       No   \n",
       "12    Unknown   Unknown    Unknown  Unknown  Unknown  Unknown   \n",
       "\n",
       "   Cytogenetic Code Other Cytogenetic Complexity Primary Cytogenetic Code  \\\n",
       "3                                              0                   Normal   \n",
       "5                                              1                      MLL   \n",
       "9                                              1                    Other   \n",
       "10                                             1                  inv(16)   \n",
       "12                                             0                  Unknown   \n",
       "\n",
       "                                  ISCN FLT3/ITD positive?  \\\n",
       "3                            46,XX[20]                 No   \n",
       "5        46,XX,t(11:19)(q23:p13.1)[20]                 No   \n",
       "9   46,XX,t(3:5)(q23:q33)[19]/46,XX[1]                Yes   \n",
       "10  46,XX,inv(16)(p13q22)[21]/46,XX[1]                 No   \n",
       "12                                   I                Yes   \n",
       "\n",
       "    FLT3/ITD allelic ratio FLT3 PM NPM mutation CEBPA mutation WT1 mutation  \\\n",
       "3                      NaN      No           No             No           No   \n",
       "5                      NaN      No           No             No           No   \n",
       "9                     0.55      No           No             No          Yes   \n",
       "10                     NaN      No           No             No           No   \n",
       "12                    0.83      No      Unknown             No          Yes   \n",
       "\n",
       "   c-Kit Mutation Exon 8 c-Kit Mutation Exon 17 MRD at end of course 1  \\\n",
       "3               Not done               Not done                Unknown   \n",
       "5               Not done               Not done                Unknown   \n",
       "9               Not done               Not done                Unknown   \n",
       "10                   Yes                     No                Unknown   \n",
       "12              Not done               Not done                Unknown   \n",
       "\n",
       "     ...    ENSG00000280913.1 ENSG00000280916.1  ENSG00000280927.1  \\\n",
       "3    ...             -2.42284          0.314777            1.74517   \n",
       "5    ...             -5.80459          -6.92714            1.03526   \n",
       "9    ...             -3.82289          -3.00939            2.17987   \n",
       "10   ...             -3.84721          -6.92714            2.06681   \n",
       "12   ...             -3.67684           -4.0422            1.47104   \n",
       "\n",
       "   ENSG00000280936.1 ENSG00000280953.1 ENSG00000280987.1 ENSG00000281005.1  \\\n",
       "3           -6.92714          -6.12136           1.40683          0.995511   \n",
       "5           -6.92714          -6.92714          0.113774           1.32433   \n",
       "9           -6.92714          -6.92714           1.94937          -1.00327   \n",
       "10          -6.92714          -6.92714           3.00886          0.439416   \n",
       "12          -6.92714          -6.92714           4.29801          -1.79528   \n",
       "\n",
       "   ENSG00000281021.1 ENSG00000281026.1 ENSG00000281100.1 ENSG00000281103.1  \\\n",
       "3          -0.223406            2.2914         -0.613341            3.9011   \n",
       "5           -4.41384          0.664587          -6.92714           1.21435   \n",
       "9           0.722174           3.02575          -3.82289           4.43513   \n",
       "10           1.58251           3.39861          -1.60007           0.97725   \n",
       "12            1.0018           1.82454          -2.75471           4.68013   \n",
       "\n",
       "   ENSG00000281106.1 ENSG00000281128.1 ENSG00000281131.1 ENSG00000281183.1  \\\n",
       "3            1.61224           -4.6821          -6.92714            0.8846   \n",
       "5           -6.92714          -6.92714          -5.80459        -0.0939682   \n",
       "9           -3.49809          -6.92714          -6.92714           1.32028   \n",
       "10          -4.20646          -5.40914          -5.40914           1.22423   \n",
       "12          -2.75471          -6.92714          -6.92714           1.37701   \n",
       "\n",
       "   ENSG00000281189.1 ENSG00000281195.1 ENSG00000281205.1 ENSG00000281207.1  \\\n",
       "3            -2.4712          0.732776          0.678398          0.391151   \n",
       "5           -2.53384          -1.48807          -4.14335          -1.05214   \n",
       "9           -4.50961           1.67087          -2.35434         -0.680935   \n",
       "10          -3.32027           2.17352          -4.20646         -0.369531   \n",
       "12          -5.28148          0.260374          -3.38555          -1.41279   \n",
       "\n",
       "    ENSG00000281332.1 ENSG00000281344.1 ENSG00000281357.1 ENSG00000281358.1  \\\n",
       "3             1.82242            1.4786           1.37983          0.894175   \n",
       "5            0.929309          0.340124           0.95113           1.78753   \n",
       "9             1.47645           1.32543          0.512625          0.884345   \n",
       "10           0.518673         -0.259634          0.651209           1.26157   \n",
       "12           0.301911         -0.463034           2.06064          0.693889   \n",
       "\n",
       "   ENSG00000281376.1 ENSG00000281383.1 ENSG00000281392.1 ENSG00000281398.1  \\\n",
       "3           -1.11056         -0.330849         0.0915962           1.95643   \n",
       "5          -0.202203           6.32096         -0.544956           1.04881   \n",
       "9          -0.488087          -1.00327          -1.25643           2.91237   \n",
       "10         -0.488494         -0.369531          -1.47196           4.20787   \n",
       "12        -0.0433916            1.3376          -1.16631           5.35495   \n",
       "\n",
       "   ENSG00000281404.1 ENSG00000281406.1 ENSG00000281433.1 ENSG00000281445.1  \\\n",
       "3          -0.547052          -6.92714          -1.45498           1.12314   \n",
       "5           0.496696          -6.92714          -2.79931         -0.914236   \n",
       "9          -0.209853          -6.92714          -1.35175        -0.0681887   \n",
       "10           -1.3543          -5.40914          -1.24551           2.43284   \n",
       "12           0.72476          -6.92714          -1.55386            1.7364   \n",
       "\n",
       "   ENSG00000281468.1 ENSG00000281490.1 ENSG00000281501.1 ENSG00000281527.1  \\\n",
       "3           -2.93057            2.9388           1.76878          0.580973   \n",
       "5           -1.94482           1.12118           3.16766          -2.61702   \n",
       "9           -2.81572        -0.0817453          0.557041           0.30953   \n",
       "10          -3.55981        0.00544204         -0.618155          0.835853   \n",
       "12          -2.75471           -1.4816          0.419797          0.128065   \n",
       "\n",
       "   ENSG00000281538.1 ENSG00000281555.1 ENSG00000281571.1 ENSG00000281628.1  \\\n",
       "3          -0.832714          -1.78095          0.132623         -0.682824   \n",
       "5           -1.89207           -3.1249           1.05554          -1.94482   \n",
       "9           -2.56667          -1.85807         -0.470147           1.27314   \n",
       "10          -2.93514           -1.8965          0.471643          0.210317   \n",
       "12           -2.5937          -1.79528           1.22335          0.362058   \n",
       "\n",
       "   ENSG00000281649.1 ENSG00000281691.1 ENSG00000281706.1 ENSG00000281741.1  \\\n",
       "3            5.46561         -0.330849          -1.84323         -0.801464   \n",
       "5            3.83862          -2.17756         -0.717812          -0.88817   \n",
       "9            6.07709          0.768241         -0.600677          -1.56366   \n",
       "10           6.03917           1.64743          -3.84721           1.08534   \n",
       "12           6.54411          0.646308         -0.395081          -1.28429   \n",
       "\n",
       "   ENSG00000281789.1 ENSG00000281896.1 ENSG00000281912.1 __no_feature  \\\n",
       "3          -0.364707            2.1646         -0.152689      17.1243   \n",
       "5            1.75482          0.456577          0.965496      16.7942   \n",
       "9          -0.506252            2.3282          -2.90931       16.916   \n",
       "10          -2.16718           3.11978          -1.81649      17.6644   \n",
       "12         -0.907716           2.45055          -1.55386      17.2728   \n",
       "\n",
       "   __ambiguous __alignment_not_unique Low Risk  \n",
       "3      14.6061                17.8527        0  \n",
       "5      15.3635                19.6702        0  \n",
       "9      14.5652                 17.571        0  \n",
       "10     14.8379                18.3827        1  \n",
       "12     14.9232                18.3348        0  \n",
       "\n",
       "[5 rows x 21492 columns]"
      ]
     },
     "execution_count": 216,
     "metadata": {},
     "output_type": "execute_result"
    }
   ],
   "source": [
    "df.head()"
   ]
  },
  {
   "cell_type": "code",
   "execution_count": 218,
   "metadata": {},
   "outputs": [],
   "source": [
    "xg1_important = X.columns[np.array(xg1.feature_importances_) > 0]\n",
    "rf1_important = X.columns[np.array(rf1.feature_importances_) > 0]"
   ]
  },
  {
   "cell_type": "code",
   "execution_count": 219,
   "metadata": {},
   "outputs": [
    {
     "name": "stdout",
     "output_type": "stream",
     "text": [
      "205\n"
     ]
    },
    {
     "data": {
      "text/plain": [
       "697"
      ]
     },
     "execution_count": 219,
     "metadata": {},
     "output_type": "execute_result"
    }
   ],
   "source": [
    "print(len(xg1_important))\n",
    "len(rf1_important)"
   ]
  },
  {
   "cell_type": "markdown",
   "metadata": {},
   "source": [
    "### country frequency of genes being labeled 'important' by RF or XGboost"
   ]
  },
  {
   "cell_type": "code",
   "execution_count": 35,
   "metadata": {},
   "outputs": [],
   "source": [
    "# xg_gene_counter = Counter()\n",
    "# rf_gene_counter = Counter()"
   ]
  },
  {
   "cell_type": "code",
   "execution_count": 36,
   "metadata": {},
   "outputs": [],
   "source": [
    "# for gene in xg1_important:\n",
    "#     xg_gene_counter[gene] +=1\n",
    "# for gene in rf1_important:\n",
    "#     rf_gene_counter[gene] +=1"
   ]
  },
  {
   "cell_type": "markdown",
   "metadata": {},
   "source": [
    "### 1b. low variance genes between two labeled groups"
   ]
  },
  {
   "cell_type": "code",
   "execution_count": 220,
   "metadata": {},
   "outputs": [
    {
     "name": "stderr",
     "output_type": "stream",
     "text": [
      "/Users/david/statsbomb/RNAseq_Cancer_Biomarkers/scripts/model_comp.py:100: SettingWithCopyWarning: \n",
      "A value is trying to be set on a copy of a slice from a DataFrame.\n",
      "Try using .loc[row_indexer,col_indexer] = value instead\n",
      "\n",
      "See the caveats in the documentation: http://pandas.pydata.org/pandas-docs/stable/indexing.html#indexing-view-versus-copy\n",
      "  data['label'] = y.copy()\n",
      "[Parallel(n_jobs=1)]: Using backend SequentialBackend with 1 concurrent workers.\n",
      "[Parallel(n_jobs=1)]: Done 300 out of 300 | elapsed:    0.2s finished\n",
      "[Parallel(n_jobs=1)]: Using backend SequentialBackend with 1 concurrent workers.\n"
     ]
    },
    {
     "name": "stdout",
     "output_type": "stream",
     "text": [
      "Ensemble Log Loss 0.4236865689681798\n",
      "Gradient Boost Log Loss 0.49256451159202913\n",
      "Random Forest Log Loss 0.48223471620602953\n",
      "XGBoost Log Loss 0.3429010650394736\n"
     ]
    },
    {
     "name": "stderr",
     "output_type": "stream",
     "text": [
      "[Parallel(n_jobs=1)]: Done 300 out of 300 | elapsed:    0.0s finished\n"
     ]
    }
   ],
   "source": [
    "df, a = data_prep_columns(AML_genes, 'Min')\n",
    "X_train, X_test, y_train, y_test, holdout, X = model_prep(df, a)\n",
    "xg2, rf2 = model_comp(X_train, X_test, y_train, y_test)"
   ]
  },
  {
   "cell_type": "code",
   "execution_count": 221,
   "metadata": {},
   "outputs": [],
   "source": [
    "xg2_important = X.columns[np.array(xg2.feature_importances_) > 0]\n",
    "rf2_important = X.columns[np.array(rf2.feature_importances_) > 0]"
   ]
  },
  {
   "cell_type": "code",
   "execution_count": 223,
   "metadata": {},
   "outputs": [
    {
     "name": "stdout",
     "output_type": "stream",
     "text": [
      "208\n"
     ]
    },
    {
     "data": {
      "text/plain": [
       "766"
      ]
     },
     "execution_count": 223,
     "metadata": {},
     "output_type": "execute_result"
    }
   ],
   "source": [
    "print(len(xg2_important))\n",
    "len(rf2_important)"
   ]
  },
  {
   "cell_type": "code",
   "execution_count": 222,
   "metadata": {},
   "outputs": [],
   "source": [
    "# for gene in xg2_important:\n",
    "#     xg_gene_counter[gene] +=1\n",
    "# for gene in rf2_important:\n",
    "#     rf_gene_counter[gene] +=1"
   ]
  },
  {
   "cell_type": "markdown",
   "metadata": {},
   "source": [
    "# 2.random gene selection\n",
    "\n",
    "- random_cols_ are **column index numbers** chosen at random\n",
    "\n",
    "- does not perform as well as the variation selected columns\n",
    "\n",
    "- use **model_prep** instead of **model_prep_loc** as random_columns_ is a randomly generated list of numbers \n",
    "used to select columns"
   ]
  },
  {
   "cell_type": "code",
   "execution_count": 230,
   "metadata": {},
   "outputs": [],
   "source": [
    "random_cols = np.random.choice(21404, 2000)\n",
    "random_set = set(random_cols)\n",
    "random_cols = list(random_set)\n",
    "random_cols_ = [x + 84 for x in random_cols]"
   ]
  },
  {
   "cell_type": "code",
   "execution_count": 231,
   "metadata": {},
   "outputs": [],
   "source": [
    "# random_cols_ are column index numbers"
   ]
  },
  {
   "cell_type": "code",
   "execution_count": 232,
   "metadata": {},
   "outputs": [
    {
     "data": {
      "text/plain": [
       "1914"
      ]
     },
     "execution_count": 232,
     "metadata": {},
     "output_type": "execute_result"
    }
   ],
   "source": [
    "len(random_cols_)"
   ]
  },
  {
   "cell_type": "code",
   "execution_count": 233,
   "metadata": {},
   "outputs": [
    {
     "name": "stderr",
     "output_type": "stream",
     "text": [
      "/Users/david/statsbomb/RNAseq_Cancer_Biomarkers/scripts/model_comp.py:100: SettingWithCopyWarning: \n",
      "A value is trying to be set on a copy of a slice from a DataFrame.\n",
      "Try using .loc[row_indexer,col_indexer] = value instead\n",
      "\n",
      "See the caveats in the documentation: http://pandas.pydata.org/pandas-docs/stable/indexing.html#indexing-view-versus-copy\n",
      "  data['label'] = y.copy()\n",
      "[Parallel(n_jobs=1)]: Using backend SequentialBackend with 1 concurrent workers.\n"
     ]
    },
    {
     "name": "stdout",
     "output_type": "stream",
     "text": [
      "Ensemble Log Loss 0.39491046043536376\n",
      "Gradient Boost Log Loss 0.4643323954434488\n",
      "Random Forest Log Loss 0.4528452946267843\n",
      "XGBoost Log Loss 0.3226523800073443\n"
     ]
    },
    {
     "name": "stderr",
     "output_type": "stream",
     "text": [
      "[Parallel(n_jobs=1)]: Done 300 out of 300 | elapsed:    0.2s finished\n",
      "[Parallel(n_jobs=1)]: Using backend SequentialBackend with 1 concurrent workers.\n",
      "[Parallel(n_jobs=1)]: Done 300 out of 300 | elapsed:    0.0s finished\n"
     ]
    }
   ],
   "source": [
    "df, __ = data_prep_columns(AML_genes, 'neither')\n",
    "X_train, X_test, y_train, y_test, holdout, X = model_prep(df, random_cols_)\n",
    "xg_random, rf_random = model_comp(X_train, X_test, y_train, y_test)"
   ]
  },
  {
   "cell_type": "code",
   "execution_count": null,
   "metadata": {},
   "outputs": [],
   "source": []
  },
  {
   "cell_type": "code",
   "execution_count": 228,
   "metadata": {},
   "outputs": [
    {
     "name": "stderr",
     "output_type": "stream",
     "text": [
      "/Users/david/statsbomb/RNAseq_Cancer_Biomarkers/scripts/model_comp.py:100: SettingWithCopyWarning: \n",
      "A value is trying to be set on a copy of a slice from a DataFrame.\n",
      "Try using .loc[row_indexer,col_indexer] = value instead\n",
      "\n",
      "See the caveats in the documentation: http://pandas.pydata.org/pandas-docs/stable/indexing.html#indexing-view-versus-copy\n",
      "  data['label'] = y.copy()\n",
      "[Parallel(n_jobs=1)]: Using backend SequentialBackend with 1 concurrent workers.\n"
     ]
    },
    {
     "name": "stdout",
     "output_type": "stream",
     "text": [
      "Ensemble Log Loss 0.3857378566561362\n",
      "Gradient Boost Log Loss 0.450060344474042\n",
      "Random Forest Log Loss 0.42749734747068563\n",
      "XGBoost Log Loss 0.3699347494119728\n"
     ]
    },
    {
     "name": "stderr",
     "output_type": "stream",
     "text": [
      "[Parallel(n_jobs=1)]: Done 300 out of 300 | elapsed:    0.2s finished\n",
      "[Parallel(n_jobs=1)]: Using backend SequentialBackend with 1 concurrent workers.\n",
      "[Parallel(n_jobs=1)]: Done 300 out of 300 | elapsed:    0.0s finished\n"
     ]
    }
   ],
   "source": [
    "random_cols = np.random.choice(21404, 2000)\n",
    "random_set = set(random_cols)\n",
    "random_cols = list(random_set)\n",
    "random_cols_ = [x + 84 for x in random_cols]\n",
    "df, __ = data_prep_columns(AML_genes, 'neither')\n",
    "X_train, X_test, y_train, y_test, holdout, X = model_prep(df, random_cols_)\n",
    "xg_random2, rf_random2 = model_comp(X_train, X_test, y_train, y_test)"
   ]
  },
  {
   "cell_type": "code",
   "execution_count": 234,
   "metadata": {},
   "outputs": [
    {
     "name": "stderr",
     "output_type": "stream",
     "text": [
      "/Users/david/statsbomb/RNAseq_Cancer_Biomarkers/scripts/model_comp.py:100: SettingWithCopyWarning: \n",
      "A value is trying to be set on a copy of a slice from a DataFrame.\n",
      "Try using .loc[row_indexer,col_indexer] = value instead\n",
      "\n",
      "See the caveats in the documentation: http://pandas.pydata.org/pandas-docs/stable/indexing.html#indexing-view-versus-copy\n",
      "  data['label'] = y.copy()\n",
      "[Parallel(n_jobs=1)]: Using backend SequentialBackend with 1 concurrent workers.\n"
     ]
    },
    {
     "name": "stdout",
     "output_type": "stream",
     "text": [
      "Ensemble Log Loss 0.3772384943194\n",
      "Gradient Boost Log Loss 0.504297547416616\n",
      "Random Forest Log Loss 0.4216150371839307\n",
      "XGBoost Log Loss 0.3159291592955187\n"
     ]
    },
    {
     "name": "stderr",
     "output_type": "stream",
     "text": [
      "[Parallel(n_jobs=1)]: Done 300 out of 300 | elapsed:    0.2s finished\n",
      "[Parallel(n_jobs=1)]: Using backend SequentialBackend with 1 concurrent workers.\n",
      "[Parallel(n_jobs=1)]: Done 300 out of 300 | elapsed:    0.0s finished\n"
     ]
    }
   ],
   "source": [
    "random_cols = np.random.choice(21404, 2000)\n",
    "random_set = set(random_cols)\n",
    "random_cols = list(random_set)\n",
    "random_cols_ = [x + 84 for x in random_cols]\n",
    "df, __ = data_prep_columns(AML_genes, 'neither')\n",
    "X_train, X_test, y_train, y_test, holdout, X = model_prep(df, random_cols_)\n",
    "xg_random3, rf_rando3 = model_comp(X_train, X_test, y_train, y_test)"
   ]
  },
  {
   "cell_type": "markdown",
   "metadata": {},
   "source": [
    "# 3. Lasso Logistic Regression using all columns\n",
    "\n",
    "- lasso reduces to 3212 genes instead of 20,000+"
   ]
  },
  {
   "cell_type": "code",
   "execution_count": 69,
   "metadata": {},
   "outputs": [],
   "source": [
    "from sklearn.linear_model import LogisticRegression"
   ]
  },
  {
   "cell_type": "code",
   "execution_count": 235,
   "metadata": {},
   "outputs": [
    {
     "name": "stderr",
     "output_type": "stream",
     "text": [
      "/Users/david/anaconda3/lib/python3.6/site-packages/sklearn/linear_model/sag.py:334: ConvergenceWarning: The max_iter was reached which means the coef_ did not converge\n",
      "  \"the coef_ did not converge\", ConvergenceWarning)\n"
     ]
    },
    {
     "data": {
      "text/plain": [
       "0.21263654943160015"
      ]
     },
     "execution_count": 235,
     "metadata": {},
     "output_type": "execute_result"
    }
   ],
   "source": [
    "lasso_columns = df.iloc[:, 84:-4].columns\n",
    "df, __ = data_prep_columns(AML_genes, 'neither')\n",
    "X_train, X_test, y_train, y_test, holdout, X = model_prep_loc(df, lasso_columns)\n",
    "log_model = LogisticRegression(penalty='l1', solver='saga')\n",
    "log_model.fit(X_train, y_train)\n",
    "y_pred = log_model.predict_proba(X_test)\n",
    "log_loss(y_test, y_pred)"
   ]
  },
  {
   "cell_type": "code",
   "execution_count": 236,
   "metadata": {},
   "outputs": [],
   "source": [
    "log_coefs = np.array(log_model.coef_)\n",
    "mask = log_coefs > 0\n",
    "important_lasso_genes = lasso_columns[mask[0]]"
   ]
  },
  {
   "cell_type": "code",
   "execution_count": 237,
   "metadata": {},
   "outputs": [
    {
     "data": {
      "text/plain": [
       "3110"
      ]
     },
     "execution_count": 237,
     "metadata": {},
     "output_type": "execute_result"
    }
   ],
   "source": [
    "len(important_lasso_genes)"
   ]
  },
  {
   "cell_type": "code",
   "execution_count": null,
   "metadata": {},
   "outputs": [],
   "source": [
    "# for gene in important_lasso_genes:\n",
    "#     xg_gene_counter[gene] +=1\n",
    "#     rf_gene_counter[gene] +=1"
   ]
  },
  {
   "cell_type": "markdown",
   "metadata": {},
   "source": [
    "### 4. Trees Performance Using Lasso Genes"
   ]
  },
  {
   "cell_type": "code",
   "execution_count": 238,
   "metadata": {},
   "outputs": [
    {
     "name": "stderr",
     "output_type": "stream",
     "text": [
      "[Parallel(n_jobs=1)]: Using backend SequentialBackend with 1 concurrent workers.\n"
     ]
    },
    {
     "name": "stdout",
     "output_type": "stream",
     "text": [
      "Ensemble Log Loss 0.38889814893691244\n",
      "Gradient Boost Log Loss 0.4288557996806494\n",
      "Random Forest Log Loss 0.40714678601797455\n",
      "XGBoost Log Loss 0.38903383744528164\n"
     ]
    },
    {
     "name": "stderr",
     "output_type": "stream",
     "text": [
      "[Parallel(n_jobs=1)]: Done 300 out of 300 | elapsed:    0.3s finished\n",
      "[Parallel(n_jobs=1)]: Using backend SequentialBackend with 1 concurrent workers.\n",
      "[Parallel(n_jobs=1)]: Done 300 out of 300 | elapsed:    0.0s finished\n"
     ]
    }
   ],
   "source": [
    "df, __ = data_prep_columns(AML_genes, 'neither')\n",
    "X_train, X_test, y_train, y_test, holdout, X = model_prep_loc(df, important_lasso_genes)\n",
    "xg_lass, rf_lass = model_comp(X_train, X_test, y_train, y_test)"
   ]
  },
  {
   "cell_type": "code",
   "execution_count": 239,
   "metadata": {},
   "outputs": [],
   "source": [
    "xg_lass_important = X.columns[np.array(xg_lass.feature_importances_) > 0]\n",
    "rf_lass_important = X.columns[np.array(rf_lass.feature_importances_) > 0]"
   ]
  },
  {
   "cell_type": "code",
   "execution_count": 86,
   "metadata": {},
   "outputs": [
    {
     "name": "stdout",
     "output_type": "stream",
     "text": [
      "XGB n_estimators: 400 log loss 0.4201527334044914\n",
      "XGB n_estimators: 600 log loss 0.3856683401894328\n",
      "XGB n_estimators: 800 log loss 0.3854842494317406\n",
      "XGB n_estimators: 1000 log loss 0.3859489940459261\n",
      "XGB n_estimators: 1200 log loss 0.3860728672479053\n"
     ]
    }
   ],
   "source": [
    "xgboost_tuner(X_train, X_test, y_train, y_test, [4, 6, 8, 10, 12])"
   ]
  },
  {
   "cell_type": "markdown",
   "metadata": {},
   "source": [
    "# 5. Feature Importance When Running Tree Over All Features"
   ]
  },
  {
   "cell_type": "code",
   "execution_count": 240,
   "metadata": {},
   "outputs": [
    {
     "name": "stderr",
     "output_type": "stream",
     "text": [
      "[Parallel(n_jobs=1)]: Using backend SequentialBackend with 1 concurrent workers.\n"
     ]
    },
    {
     "name": "stdout",
     "output_type": "stream",
     "text": [
      "Ensemble Log Loss 0.3417890185477423\n",
      "Gradient Boost Log Loss 0.4407397864037863\n",
      "Random Forest Log Loss 0.39492259532890717\n",
      "XGBoost Log Loss 0.25292958437490304\n"
     ]
    },
    {
     "name": "stderr",
     "output_type": "stream",
     "text": [
      "[Parallel(n_jobs=1)]: Done 300 out of 300 | elapsed:    0.6s finished\n",
      "[Parallel(n_jobs=1)]: Using backend SequentialBackend with 1 concurrent workers.\n",
      "[Parallel(n_jobs=1)]: Done 300 out of 300 | elapsed:    0.0s finished\n"
     ]
    }
   ],
   "source": [
    "all_columns = df.iloc[:, 84:-4].columns\n",
    "df, __ = data_prep_columns(AML_genes, 'neither')\n",
    "X_train, X_test, y_train, y_test, holdout, X = model_prep_loc(df, all_columns)\n",
    "xg_all, rf_all = model_comp(X_train, X_test, y_train, y_test)"
   ]
  },
  {
   "cell_type": "code",
   "execution_count": null,
   "metadata": {},
   "outputs": [],
   "source": []
  },
  {
   "cell_type": "code",
   "execution_count": 241,
   "metadata": {},
   "outputs": [],
   "source": [
    "xg_all_important = X.columns[np.array(xg_all.feature_importances_) > 0]\n",
    "rf_all_important = X.columns[np.array(rf_all.feature_importances_) > 0]"
   ]
  },
  {
   "cell_type": "code",
   "execution_count": 242,
   "metadata": {},
   "outputs": [
    {
     "name": "stdout",
     "output_type": "stream",
     "text": [
      "332\n"
     ]
    },
    {
     "data": {
      "text/plain": [
       "1147"
      ]
     },
     "execution_count": 242,
     "metadata": {},
     "output_type": "execute_result"
    }
   ],
   "source": [
    "print(len(xg_all_important))\n",
    "len(rf_all_important)"
   ]
  },
  {
   "cell_type": "code",
   "execution_count": null,
   "metadata": {},
   "outputs": [],
   "source": []
  },
  {
   "cell_type": "markdown",
   "metadata": {},
   "source": [
    "# Comparing the features that the models think are important\n",
    "\n",
    "### Lasso vs. XGBoost vs. RF (on all columns)"
   ]
  },
  {
   "cell_type": "code",
   "execution_count": 243,
   "metadata": {},
   "outputs": [
    {
     "name": "stdout",
     "output_type": "stream",
     "text": [
      "3110\n",
      "332\n"
     ]
    },
    {
     "data": {
      "text/plain": [
       "1147"
      ]
     },
     "execution_count": 243,
     "metadata": {},
     "output_type": "execute_result"
    }
   ],
   "source": [
    "print(len(important_lasso_genes))\n",
    "print(len(xg_all_important))\n",
    "len(rf_all_important)"
   ]
  },
  {
   "cell_type": "code",
   "execution_count": 244,
   "metadata": {},
   "outputs": [],
   "source": [
    "set_lasso = set(important_lasso_genes)\n",
    "set_xg = set(xg_all_important)\n",
    "set_rf = set(rf_all_important)"
   ]
  },
  {
   "cell_type": "code",
   "execution_count": 245,
   "metadata": {},
   "outputs": [
    {
     "name": "stdout",
     "output_type": "stream",
     "text": [
      "3110\n",
      "332\n"
     ]
    },
    {
     "data": {
      "text/plain": [
       "1147"
      ]
     },
     "execution_count": 245,
     "metadata": {},
     "output_type": "execute_result"
    }
   ],
   "source": [
    "print(len(set(important_lasso_genes)))\n",
    "print(len(set(xg_all_important)))\n",
    "len(set(rf_all_important))"
   ]
  },
  {
   "cell_type": "markdown",
   "metadata": {},
   "source": [
    "Genes deemed important by both **xg and rf**"
   ]
  },
  {
   "cell_type": "code",
   "execution_count": 101,
   "metadata": {},
   "outputs": [
    {
     "data": {
      "text/plain": [
       "48"
      ]
     },
     "execution_count": 101,
     "metadata": {},
     "output_type": "execute_result"
    }
   ],
   "source": [
    "xg_rf_intersection = set_xg.intersection(set_rf)\n",
    "len(xg_rf_intersection)"
   ]
  },
  {
   "cell_type": "markdown",
   "metadata": {},
   "source": [
    "Genes deemed important by both **lasso and rf**"
   ]
  },
  {
   "cell_type": "code",
   "execution_count": 102,
   "metadata": {},
   "outputs": [
    {
     "data": {
      "text/plain": [
       "293"
      ]
     },
     "execution_count": 102,
     "metadata": {},
     "output_type": "execute_result"
    }
   ],
   "source": [
    "lasso_rf_intersection = set_lasso.intersection(set_rf)\n",
    "len(lasso_rf_intersection)"
   ]
  },
  {
   "cell_type": "markdown",
   "metadata": {},
   "source": [
    "Genes deemed important by both **lasso and xg**"
   ]
  },
  {
   "cell_type": "code",
   "execution_count": 103,
   "metadata": {},
   "outputs": [
    {
     "data": {
      "text/plain": [
       "76"
      ]
     },
     "execution_count": 103,
     "metadata": {},
     "output_type": "execute_result"
    }
   ],
   "source": [
    "lasso_xg_intersection = set_lasso.intersection(set_xg)\n",
    "len(lasso_xg_intersection)"
   ]
  },
  {
   "cell_type": "markdown",
   "metadata": {},
   "source": [
    "Intersection of ** lasso, xg and rf**"
   ]
  },
  {
   "cell_type": "code",
   "execution_count": 104,
   "metadata": {},
   "outputs": [
    {
     "data": {
      "text/plain": [
       "11"
      ]
     },
     "execution_count": 104,
     "metadata": {},
     "output_type": "execute_result"
    }
   ],
   "source": [
    "three_way = set.intersection(set_lasso, set_xg, set_rf)\n",
    "len(three_way)"
   ]
  },
  {
   "cell_type": "code",
   "execution_count": 105,
   "metadata": {},
   "outputs": [
    {
     "data": {
      "text/plain": [
       "{'ENSG00000099998.16',\n",
       " 'ENSG00000124491.14',\n",
       " 'ENSG00000125430.7',\n",
       " 'ENSG00000130649.8',\n",
       " 'ENSG00000151468.10',\n",
       " 'ENSG00000159708.16',\n",
       " 'ENSG00000163106.9',\n",
       " 'ENSG00000198842.8',\n",
       " 'ENSG00000228172.4',\n",
       " 'ENSG00000260182.1',\n",
       " 'ENSG00000266733.4'}"
      ]
     },
     "execution_count": 105,
     "metadata": {},
     "output_type": "execute_result"
    }
   ],
   "source": [
    "three_way"
   ]
  },
  {
   "cell_type": "markdown",
   "metadata": {},
   "source": [
    "### THESE ARE OUR MOST IMPORTANT GENE ENSEMBLES\n",
    "\n",
    "'ENSG00000099998.16',\n",
    " 'ENSG00000124491.14',\n",
    " 'ENSG00000125430.7',\n",
    " 'ENSG00000130649.8',\n",
    " 'ENSG00000151468.10',\n",
    " 'ENSG00000159708.16',\n",
    " 'ENSG00000163106.9',\n",
    " 'ENSG00000198842.8',\n",
    " 'ENSG00000228172.4',\n",
    " 'ENSG00000260182.1',\n",
    " 'ENSG00000266733.4'"
   ]
  },
  {
   "cell_type": "markdown",
   "metadata": {},
   "source": [
    "# Making a table of genes "
   ]
  },
  {
   "cell_type": "code",
   "execution_count": 106,
   "metadata": {},
   "outputs": [
    {
     "data": {
      "text/plain": [
       "4285"
      ]
     },
     "execution_count": 106,
     "metadata": {},
     "output_type": "execute_result"
    }
   ],
   "source": [
    "all_genes = set.union(set_lasso, set_xg, set_rf)\n",
    "len(all_genes)"
   ]
  },
  {
   "cell_type": "code",
   "execution_count": null,
   "metadata": {},
   "outputs": [],
   "source": [
    "# test1 = ['a', 'b', 'c']\n",
    "# test2 = ['d', 'c', 'e']\n",
    "# test_list ['a', 'b', 'c']\n",
    "# test_dict = {}\n",
    "# for letter in test_list:\n",
    "#     if item in \n",
    "\n"
   ]
  },
  {
   "cell_type": "code",
   "execution_count": 107,
   "metadata": {},
   "outputs": [],
   "source": [
    "# gene_dict = {}\n",
    "# for gene in all_genes:\n",
    "#     if gene in three_way:\n",
    "#         gene_dict[gene] = 'RF, XGBoost, Lasso'\n",
    "#     elif gene in lasso_xg_intersection:\n",
    "#         gene_dict[gene] = 'XGBoost, Lasso'\n",
    "#     elif gene in lasso_rf_intersection:\n",
    "#         gene_dict[gene] = 'RF, Lasso'\n",
    "        "
   ]
  },
  {
   "cell_type": "markdown",
   "metadata": {},
   "source": [
    "SETS IM WORKING WITH:\n",
    "\n",
    "\n",
    "-  three_way (union of all 11)\n",
    "\n",
    "- lasso_xg_intersection, xg_rf_intersection, lasso_rf_intersection\n",
    "\n",
    "- set_lasso, set_xg, set_rf (individual)"
   ]
  },
  {
   "cell_type": "code",
   "execution_count": null,
   "metadata": {},
   "outputs": [],
   "source": []
  },
  {
   "cell_type": "code",
   "execution_count": 115,
   "metadata": {},
   "outputs": [],
   "source": [
    "gene_dict = {}\n",
    "for gene in all_genes:\n",
    "    if gene not in gene_dict:\n",
    "        gene_dict[gene] = []\n",
    "        if gene in set_lasso:\n",
    "            gene_dict[gene].append('lasso')\n",
    "        if gene in set_xg:\n",
    "            gene_dict[gene].append('xgboost')\n",
    "        if gene in set_rf:\n",
    "            gene_dict[gene].append('random forest')\n",
    "    else:\n",
    "        if gene in set_lasso:\n",
    "            gene_dict[gene].append('lasso')\n",
    "        if gene in set_xg:\n",
    "            gene_dict[gene].append('xgboost')\n",
    "        if gene in set_rf:\n",
    "            gene_dict[gene].append('random forest')"
   ]
  },
  {
   "cell_type": "code",
   "execution_count": 180,
   "metadata": {},
   "outputs": [],
   "source": [
    "gene_dict = {}\n",
    "for gene in all_genes:\n",
    "    if gene not in gene_dict:\n",
    "        gene_dict[gene] = ''\n",
    "        if gene in set_lasso:\n",
    "            gene_dict[gene] += 'lasso '\n",
    "        if gene in set_xg:\n",
    "            gene_dict[gene] += 'xgb '\n",
    "        if gene in set_rf:\n",
    "            gene_dict[gene] += 'rf '\n",
    "    else:\n",
    "        if gene in set_lasso:\n",
    "            gene_dict[gene] += ' lasso '\n",
    "        if gene in set_xg:\n",
    "            gene_dict[gene] += ' xgb '\n",
    "        if gene in set_rf:\n",
    "            gene_dict[gene] += ' rf '"
   ]
  },
  {
   "cell_type": "code",
   "execution_count": 181,
   "metadata": {},
   "outputs": [
    {
     "data": {
      "text/plain": [
       "4285"
      ]
     },
     "execution_count": 181,
     "metadata": {},
     "output_type": "execute_result"
    }
   ],
   "source": [
    "len(gene_dict)"
   ]
  },
  {
   "cell_type": "code",
   "execution_count": 182,
   "metadata": {},
   "outputs": [
    {
     "data": {
      "text/plain": [
       "'lasso rf '"
      ]
     },
     "execution_count": 182,
     "metadata": {},
     "output_type": "execute_result"
    }
   ],
   "source": [
    "gene_dict['ENSG00000259321.1']"
   ]
  },
  {
   "cell_type": "code",
   "execution_count": 183,
   "metadata": {},
   "outputs": [],
   "source": [
    "d = list(gene_dict.values())"
   ]
  },
  {
   "cell_type": "code",
   "execution_count": 184,
   "metadata": {},
   "outputs": [],
   "source": [
    "important_genes = pd.DataFrame(data = d, index=gene_dict.keys(), columns = ['Model'])"
   ]
  },
  {
   "cell_type": "code",
   "execution_count": 189,
   "metadata": {},
   "outputs": [
    {
     "data": {
      "text/html": [
       "<div>\n",
       "<style scoped>\n",
       "    .dataframe tbody tr th:only-of-type {\n",
       "        vertical-align: middle;\n",
       "    }\n",
       "\n",
       "    .dataframe tbody tr th {\n",
       "        vertical-align: top;\n",
       "    }\n",
       "\n",
       "    .dataframe thead th {\n",
       "        text-align: right;\n",
       "    }\n",
       "</style>\n",
       "<table border=\"1\" class=\"dataframe\">\n",
       "  <thead>\n",
       "    <tr style=\"text-align: right;\">\n",
       "      <th></th>\n",
       "      <th>Model</th>\n",
       "    </tr>\n",
       "  </thead>\n",
       "  <tbody>\n",
       "    <tr>\n",
       "      <th>ENSG00000173597.7</th>\n",
       "      <td>lasso</td>\n",
       "    </tr>\n",
       "    <tr>\n",
       "      <th>ENSG00000143815.13</th>\n",
       "      <td>rf</td>\n",
       "    </tr>\n",
       "    <tr>\n",
       "      <th>ENSG00000110583.11</th>\n",
       "      <td>rf</td>\n",
       "    </tr>\n",
       "    <tr>\n",
       "      <th>ENSG00000235776.2</th>\n",
       "      <td>rf</td>\n",
       "    </tr>\n",
       "    <tr>\n",
       "      <th>ENSG00000104213.11</th>\n",
       "      <td>lasso</td>\n",
       "    </tr>\n",
       "  </tbody>\n",
       "</table>\n",
       "</div>"
      ],
      "text/plain": [
       "                     Model\n",
       "ENSG00000173597.7   lasso \n",
       "ENSG00000143815.13     rf \n",
       "ENSG00000110583.11     rf \n",
       "ENSG00000235776.2      rf \n",
       "ENSG00000104213.11  lasso "
      ]
     },
     "execution_count": 189,
     "metadata": {},
     "output_type": "execute_result"
    }
   ],
   "source": [
    "important_genes.head(5)"
   ]
  },
  {
   "cell_type": "code",
   "execution_count": null,
   "metadata": {},
   "outputs": [],
   "source": [
    "# if gene in set_lasso:\n",
    "#             gene_dict[gene] += ' lasso '\n",
    "#         if gene in set_xg:\n",
    "#             gene_dict[gene] += ' xgb '\n",
    "#         if gene in set_rf:\n",
    "#             gene_dict[gene] += ' rf '"
   ]
  },
  {
   "cell_type": "code",
   "execution_count": 186,
   "metadata": {},
   "outputs": [],
   "source": [
    "lasso_dict = {}\n",
    "for gene in all_genes:\n",
    "    if gene in set_lasso:\n",
    "        lasso_dict[gene] = 1\n",
    "    else:\n",
    "        lasso_dict[gene] = 0\n",
    "\n",
    "rf_dict = {}\n",
    "for gene in all_genes:\n",
    "    if gene in set_rf:\n",
    "        rf_dict[gene] = 1\n",
    "    else:\n",
    "        rf_dict[gene] = 0\n",
    "        \n",
    "xgb_dict = {}\n",
    "for gene in all_genes:\n",
    "    if gene in set_xg:\n",
    "        xgb_dict[gene] = 1\n",
    "    else:\n",
    "        xgb_dict[gene] = 0"
   ]
  },
  {
   "cell_type": "code",
   "execution_count": null,
   "metadata": {},
   "outputs": [],
   "source": []
  },
  {
   "cell_type": "code",
   "execution_count": null,
   "metadata": {},
   "outputs": [],
   "source": []
  },
  {
   "cell_type": "code",
   "execution_count": 190,
   "metadata": {},
   "outputs": [],
   "source": [
    "a = list(lasso_dict.values())\n",
    "b = list(rf_dict.values())\n",
    "c = list(xgb_dict.values())"
   ]
  },
  {
   "cell_type": "code",
   "execution_count": 210,
   "metadata": {},
   "outputs": [
    {
     "data": {
      "text/html": [
       "<div>\n",
       "<style scoped>\n",
       "    .dataframe tbody tr th:only-of-type {\n",
       "        vertical-align: middle;\n",
       "    }\n",
       "\n",
       "    .dataframe tbody tr th {\n",
       "        vertical-align: top;\n",
       "    }\n",
       "\n",
       "    .dataframe thead th {\n",
       "        text-align: right;\n",
       "    }\n",
       "</style>\n",
       "<table border=\"1\" class=\"dataframe\">\n",
       "  <thead>\n",
       "    <tr style=\"text-align: right;\">\n",
       "      <th></th>\n",
       "      <th>ENSG00000000003.13</th>\n",
       "      <th>ENSG00000002586.16</th>\n",
       "      <th>ENSG00000002726.18</th>\n",
       "      <th>ENSG00000002933.6</th>\n",
       "      <th>ENSG00000003056.6</th>\n",
       "      <th>ENSG00000003137.7</th>\n",
       "      <th>ENSG00000003249.12</th>\n",
       "      <th>ENSG00000003436.13</th>\n",
       "      <th>ENSG00000004660.13</th>\n",
       "      <th>ENSG00000004939.12</th>\n",
       "      <th>ENSG00000005073.5</th>\n",
       "      <th>ENSG00000005102.11</th>\n",
       "      <th>ENSG00000005108.14</th>\n",
       "      <th>ENSG00000005194.13</th>\n",
       "      <th>ENSG00000005243.8</th>\n",
       "      <th>ENSG00000005381.7</th>\n",
       "      <th>ENSG00000005471.14</th>\n",
       "      <th>ENSG00000005513.9</th>\n",
       "      <th>ENSG00000005884.16</th>\n",
       "      <th>ENSG00000005893.14</th>\n",
       "      <th>ENSG00000006025.10</th>\n",
       "      <th>ENSG00000006042.10</th>\n",
       "      <th>ENSG00000006047.11</th>\n",
       "      <th>ENSG00000006118.13</th>\n",
       "      <th>ENSG00000006283.16</th>\n",
       "      <th>ENSG00000006459.9</th>\n",
       "      <th>ENSG00000006534.14</th>\n",
       "      <th>ENSG00000006611.14</th>\n",
       "      <th>ENSG00000006638.10</th>\n",
       "      <th>ENSG00000006747.13</th>\n",
       "      <th>ENSG00000007001.11</th>\n",
       "      <th>ENSG00000007038.9</th>\n",
       "      <th>ENSG00000007129.16</th>\n",
       "      <th>ENSG00000007237.17</th>\n",
       "      <th>ENSG00000007314.10</th>\n",
       "      <th>ENSG00000007350.15</th>\n",
       "      <th>ENSG00000007402.10</th>\n",
       "      <th>ENSG00000007516.12</th>\n",
       "      <th>ENSG00000007866.17</th>\n",
       "      <th>ENSG00000007944.13</th>\n",
       "      <th>ENSG00000008056.11</th>\n",
       "      <th>ENSG00000008283.14</th>\n",
       "      <th>ENSG00000008311.13</th>\n",
       "      <th>ENSG00000008394.11</th>\n",
       "      <th>ENSG00000008516.15</th>\n",
       "      <th>ENSG00000008517.15</th>\n",
       "      <th>ENSG00000009790.13</th>\n",
       "      <th>ENSG00000010319.5</th>\n",
       "      <th>ENSG00000010704.17</th>\n",
       "      <th>ENSG00000010818.7</th>\n",
       "      <th>...</th>\n",
       "      <th>ENSG00000279978.1</th>\n",
       "      <th>ENSG00000279989.1</th>\n",
       "      <th>ENSG00000280008.1</th>\n",
       "      <th>ENSG00000280011.1</th>\n",
       "      <th>ENSG00000280022.1</th>\n",
       "      <th>ENSG00000280065.1</th>\n",
       "      <th>ENSG00000280079.1</th>\n",
       "      <th>ENSG00000280081.2</th>\n",
       "      <th>ENSG00000280099.1</th>\n",
       "      <th>ENSG00000280123.1</th>\n",
       "      <th>ENSG00000280129.1</th>\n",
       "      <th>ENSG00000280132.1</th>\n",
       "      <th>ENSG00000280153.1</th>\n",
       "      <th>ENSG00000280157.1</th>\n",
       "      <th>ENSG00000280184.1</th>\n",
       "      <th>ENSG00000280187.1</th>\n",
       "      <th>ENSG00000280194.1</th>\n",
       "      <th>ENSG00000280195.1</th>\n",
       "      <th>ENSG00000280211.1</th>\n",
       "      <th>ENSG00000280213.1</th>\n",
       "      <th>ENSG00000280216.1</th>\n",
       "      <th>ENSG00000280237.1</th>\n",
       "      <th>ENSG00000280254.1</th>\n",
       "      <th>ENSG00000280287.1</th>\n",
       "      <th>ENSG00000280303.2</th>\n",
       "      <th>ENSG00000280332.1</th>\n",
       "      <th>ENSG00000280351.2</th>\n",
       "      <th>ENSG00000280401.1</th>\n",
       "      <th>ENSG00000280550.1</th>\n",
       "      <th>ENSG00000280560.1</th>\n",
       "      <th>ENSG00000280594.1</th>\n",
       "      <th>ENSG00000280614.1</th>\n",
       "      <th>ENSG00000280623.1</th>\n",
       "      <th>ENSG00000280649.1</th>\n",
       "      <th>ENSG00000280670.1</th>\n",
       "      <th>ENSG00000280721.1</th>\n",
       "      <th>ENSG00000280777.1</th>\n",
       "      <th>ENSG00000280798.1</th>\n",
       "      <th>ENSG00000280953.1</th>\n",
       "      <th>ENSG00000281106.1</th>\n",
       "      <th>ENSG00000281207.1</th>\n",
       "      <th>ENSG00000281344.1</th>\n",
       "      <th>ENSG00000281398.1</th>\n",
       "      <th>ENSG00000281404.1</th>\n",
       "      <th>ENSG00000281433.1</th>\n",
       "      <th>ENSG00000281468.1</th>\n",
       "      <th>ENSG00000281501.1</th>\n",
       "      <th>ENSG00000281527.1</th>\n",
       "      <th>ENSG00000281571.1</th>\n",
       "      <th>ENSG00000281741.1</th>\n",
       "    </tr>\n",
       "  </thead>\n",
       "  <tbody>\n",
       "    <tr>\n",
       "      <th>0</th>\n",
       "      <td>0</td>\n",
       "      <td>1</td>\n",
       "      <td>1</td>\n",
       "      <td>1</td>\n",
       "      <td>0</td>\n",
       "      <td>1</td>\n",
       "      <td>1</td>\n",
       "      <td>1</td>\n",
       "      <td>0</td>\n",
       "      <td>0</td>\n",
       "      <td>0</td>\n",
       "      <td>1</td>\n",
       "      <td>1</td>\n",
       "      <td>0</td>\n",
       "      <td>1</td>\n",
       "      <td>1</td>\n",
       "      <td>0</td>\n",
       "      <td>1</td>\n",
       "      <td>1</td>\n",
       "      <td>0</td>\n",
       "      <td>0</td>\n",
       "      <td>0</td>\n",
       "      <td>1</td>\n",
       "      <td>1</td>\n",
       "      <td>1</td>\n",
       "      <td>1</td>\n",
       "      <td>1</td>\n",
       "      <td>1</td>\n",
       "      <td>1</td>\n",
       "      <td>0</td>\n",
       "      <td>1</td>\n",
       "      <td>1</td>\n",
       "      <td>1</td>\n",
       "      <td>1</td>\n",
       "      <td>1</td>\n",
       "      <td>0</td>\n",
       "      <td>1</td>\n",
       "      <td>1</td>\n",
       "      <td>1</td>\n",
       "      <td>0</td>\n",
       "      <td>1</td>\n",
       "      <td>1</td>\n",
       "      <td>1</td>\n",
       "      <td>1</td>\n",
       "      <td>1</td>\n",
       "      <td>1</td>\n",
       "      <td>1</td>\n",
       "      <td>0</td>\n",
       "      <td>1</td>\n",
       "      <td>1</td>\n",
       "      <td>...</td>\n",
       "      <td>0</td>\n",
       "      <td>1</td>\n",
       "      <td>1</td>\n",
       "      <td>0</td>\n",
       "      <td>1</td>\n",
       "      <td>1</td>\n",
       "      <td>1</td>\n",
       "      <td>1</td>\n",
       "      <td>1</td>\n",
       "      <td>1</td>\n",
       "      <td>1</td>\n",
       "      <td>1</td>\n",
       "      <td>1</td>\n",
       "      <td>0</td>\n",
       "      <td>1</td>\n",
       "      <td>1</td>\n",
       "      <td>1</td>\n",
       "      <td>1</td>\n",
       "      <td>1</td>\n",
       "      <td>1</td>\n",
       "      <td>1</td>\n",
       "      <td>0</td>\n",
       "      <td>1</td>\n",
       "      <td>0</td>\n",
       "      <td>1</td>\n",
       "      <td>1</td>\n",
       "      <td>1</td>\n",
       "      <td>1</td>\n",
       "      <td>0</td>\n",
       "      <td>1</td>\n",
       "      <td>1</td>\n",
       "      <td>1</td>\n",
       "      <td>1</td>\n",
       "      <td>1</td>\n",
       "      <td>0</td>\n",
       "      <td>1</td>\n",
       "      <td>1</td>\n",
       "      <td>1</td>\n",
       "      <td>1</td>\n",
       "      <td>1</td>\n",
       "      <td>0</td>\n",
       "      <td>0</td>\n",
       "      <td>0</td>\n",
       "      <td>1</td>\n",
       "      <td>1</td>\n",
       "      <td>1</td>\n",
       "      <td>1</td>\n",
       "      <td>1</td>\n",
       "      <td>1</td>\n",
       "      <td>1</td>\n",
       "    </tr>\n",
       "    <tr>\n",
       "      <th>1</th>\n",
       "      <td>1</td>\n",
       "      <td>0</td>\n",
       "      <td>0</td>\n",
       "      <td>0</td>\n",
       "      <td>0</td>\n",
       "      <td>0</td>\n",
       "      <td>0</td>\n",
       "      <td>0</td>\n",
       "      <td>1</td>\n",
       "      <td>0</td>\n",
       "      <td>1</td>\n",
       "      <td>0</td>\n",
       "      <td>0</td>\n",
       "      <td>1</td>\n",
       "      <td>0</td>\n",
       "      <td>0</td>\n",
       "      <td>1</td>\n",
       "      <td>0</td>\n",
       "      <td>0</td>\n",
       "      <td>1</td>\n",
       "      <td>1</td>\n",
       "      <td>0</td>\n",
       "      <td>0</td>\n",
       "      <td>0</td>\n",
       "      <td>0</td>\n",
       "      <td>0</td>\n",
       "      <td>0</td>\n",
       "      <td>0</td>\n",
       "      <td>1</td>\n",
       "      <td>0</td>\n",
       "      <td>0</td>\n",
       "      <td>0</td>\n",
       "      <td>0</td>\n",
       "      <td>1</td>\n",
       "      <td>0</td>\n",
       "      <td>1</td>\n",
       "      <td>0</td>\n",
       "      <td>1</td>\n",
       "      <td>0</td>\n",
       "      <td>1</td>\n",
       "      <td>0</td>\n",
       "      <td>0</td>\n",
       "      <td>1</td>\n",
       "      <td>0</td>\n",
       "      <td>0</td>\n",
       "      <td>0</td>\n",
       "      <td>0</td>\n",
       "      <td>1</td>\n",
       "      <td>0</td>\n",
       "      <td>0</td>\n",
       "      <td>...</td>\n",
       "      <td>1</td>\n",
       "      <td>0</td>\n",
       "      <td>0</td>\n",
       "      <td>1</td>\n",
       "      <td>0</td>\n",
       "      <td>0</td>\n",
       "      <td>0</td>\n",
       "      <td>0</td>\n",
       "      <td>0</td>\n",
       "      <td>0</td>\n",
       "      <td>0</td>\n",
       "      <td>0</td>\n",
       "      <td>1</td>\n",
       "      <td>1</td>\n",
       "      <td>0</td>\n",
       "      <td>0</td>\n",
       "      <td>0</td>\n",
       "      <td>0</td>\n",
       "      <td>0</td>\n",
       "      <td>0</td>\n",
       "      <td>0</td>\n",
       "      <td>1</td>\n",
       "      <td>0</td>\n",
       "      <td>0</td>\n",
       "      <td>0</td>\n",
       "      <td>0</td>\n",
       "      <td>0</td>\n",
       "      <td>0</td>\n",
       "      <td>1</td>\n",
       "      <td>0</td>\n",
       "      <td>0</td>\n",
       "      <td>0</td>\n",
       "      <td>0</td>\n",
       "      <td>1</td>\n",
       "      <td>1</td>\n",
       "      <td>0</td>\n",
       "      <td>0</td>\n",
       "      <td>0</td>\n",
       "      <td>0</td>\n",
       "      <td>0</td>\n",
       "      <td>1</td>\n",
       "      <td>1</td>\n",
       "      <td>0</td>\n",
       "      <td>0</td>\n",
       "      <td>0</td>\n",
       "      <td>0</td>\n",
       "      <td>0</td>\n",
       "      <td>0</td>\n",
       "      <td>0</td>\n",
       "      <td>0</td>\n",
       "    </tr>\n",
       "    <tr>\n",
       "      <th>2</th>\n",
       "      <td>0</td>\n",
       "      <td>0</td>\n",
       "      <td>0</td>\n",
       "      <td>0</td>\n",
       "      <td>1</td>\n",
       "      <td>0</td>\n",
       "      <td>0</td>\n",
       "      <td>0</td>\n",
       "      <td>0</td>\n",
       "      <td>1</td>\n",
       "      <td>0</td>\n",
       "      <td>0</td>\n",
       "      <td>0</td>\n",
       "      <td>0</td>\n",
       "      <td>0</td>\n",
       "      <td>0</td>\n",
       "      <td>0</td>\n",
       "      <td>0</td>\n",
       "      <td>0</td>\n",
       "      <td>0</td>\n",
       "      <td>0</td>\n",
       "      <td>1</td>\n",
       "      <td>0</td>\n",
       "      <td>0</td>\n",
       "      <td>0</td>\n",
       "      <td>0</td>\n",
       "      <td>0</td>\n",
       "      <td>0</td>\n",
       "      <td>0</td>\n",
       "      <td>1</td>\n",
       "      <td>0</td>\n",
       "      <td>0</td>\n",
       "      <td>0</td>\n",
       "      <td>0</td>\n",
       "      <td>0</td>\n",
       "      <td>0</td>\n",
       "      <td>0</td>\n",
       "      <td>0</td>\n",
       "      <td>0</td>\n",
       "      <td>0</td>\n",
       "      <td>0</td>\n",
       "      <td>0</td>\n",
       "      <td>0</td>\n",
       "      <td>0</td>\n",
       "      <td>0</td>\n",
       "      <td>0</td>\n",
       "      <td>0</td>\n",
       "      <td>0</td>\n",
       "      <td>0</td>\n",
       "      <td>0</td>\n",
       "      <td>...</td>\n",
       "      <td>0</td>\n",
       "      <td>0</td>\n",
       "      <td>0</td>\n",
       "      <td>0</td>\n",
       "      <td>0</td>\n",
       "      <td>0</td>\n",
       "      <td>0</td>\n",
       "      <td>0</td>\n",
       "      <td>0</td>\n",
       "      <td>0</td>\n",
       "      <td>0</td>\n",
       "      <td>0</td>\n",
       "      <td>0</td>\n",
       "      <td>0</td>\n",
       "      <td>0</td>\n",
       "      <td>0</td>\n",
       "      <td>0</td>\n",
       "      <td>0</td>\n",
       "      <td>0</td>\n",
       "      <td>0</td>\n",
       "      <td>0</td>\n",
       "      <td>0</td>\n",
       "      <td>0</td>\n",
       "      <td>1</td>\n",
       "      <td>0</td>\n",
       "      <td>0</td>\n",
       "      <td>0</td>\n",
       "      <td>0</td>\n",
       "      <td>0</td>\n",
       "      <td>0</td>\n",
       "      <td>0</td>\n",
       "      <td>0</td>\n",
       "      <td>0</td>\n",
       "      <td>0</td>\n",
       "      <td>0</td>\n",
       "      <td>0</td>\n",
       "      <td>0</td>\n",
       "      <td>0</td>\n",
       "      <td>0</td>\n",
       "      <td>0</td>\n",
       "      <td>0</td>\n",
       "      <td>0</td>\n",
       "      <td>1</td>\n",
       "      <td>0</td>\n",
       "      <td>0</td>\n",
       "      <td>0</td>\n",
       "      <td>0</td>\n",
       "      <td>0</td>\n",
       "      <td>0</td>\n",
       "      <td>0</td>\n",
       "    </tr>\n",
       "  </tbody>\n",
       "</table>\n",
       "<p>3 rows × 4285 columns</p>\n",
       "</div>"
      ],
      "text/plain": [
       "   ENSG00000000003.13  ENSG00000002586.16  ENSG00000002726.18  \\\n",
       "0                   0                   1                   1   \n",
       "1                   1                   0                   0   \n",
       "2                   0                   0                   0   \n",
       "\n",
       "   ENSG00000002933.6  ENSG00000003056.6  ENSG00000003137.7  \\\n",
       "0                  1                  0                  1   \n",
       "1                  0                  0                  0   \n",
       "2                  0                  1                  0   \n",
       "\n",
       "   ENSG00000003249.12  ENSG00000003436.13  ENSG00000004660.13  \\\n",
       "0                   1                   1                   0   \n",
       "1                   0                   0                   1   \n",
       "2                   0                   0                   0   \n",
       "\n",
       "   ENSG00000004939.12  ENSG00000005073.5  ENSG00000005102.11  \\\n",
       "0                   0                  0                   1   \n",
       "1                   0                  1                   0   \n",
       "2                   1                  0                   0   \n",
       "\n",
       "   ENSG00000005108.14  ENSG00000005194.13  ENSG00000005243.8  \\\n",
       "0                   1                   0                  1   \n",
       "1                   0                   1                  0   \n",
       "2                   0                   0                  0   \n",
       "\n",
       "   ENSG00000005381.7  ENSG00000005471.14  ENSG00000005513.9  \\\n",
       "0                  1                   0                  1   \n",
       "1                  0                   1                  0   \n",
       "2                  0                   0                  0   \n",
       "\n",
       "   ENSG00000005884.16  ENSG00000005893.14  ENSG00000006025.10  \\\n",
       "0                   1                   0                   0   \n",
       "1                   0                   1                   1   \n",
       "2                   0                   0                   0   \n",
       "\n",
       "   ENSG00000006042.10  ENSG00000006047.11  ENSG00000006118.13  \\\n",
       "0                   0                   1                   1   \n",
       "1                   0                   0                   0   \n",
       "2                   1                   0                   0   \n",
       "\n",
       "   ENSG00000006283.16  ENSG00000006459.9  ENSG00000006534.14  \\\n",
       "0                   1                  1                   1   \n",
       "1                   0                  0                   0   \n",
       "2                   0                  0                   0   \n",
       "\n",
       "   ENSG00000006611.14  ENSG00000006638.10  ENSG00000006747.13  \\\n",
       "0                   1                   1                   0   \n",
       "1                   0                   1                   0   \n",
       "2                   0                   0                   1   \n",
       "\n",
       "   ENSG00000007001.11  ENSG00000007038.9  ENSG00000007129.16  \\\n",
       "0                   1                  1                   1   \n",
       "1                   0                  0                   0   \n",
       "2                   0                  0                   0   \n",
       "\n",
       "   ENSG00000007237.17  ENSG00000007314.10  ENSG00000007350.15  \\\n",
       "0                   1                   1                   0   \n",
       "1                   1                   0                   1   \n",
       "2                   0                   0                   0   \n",
       "\n",
       "   ENSG00000007402.10  ENSG00000007516.12  ENSG00000007866.17  \\\n",
       "0                   1                   1                   1   \n",
       "1                   0                   1                   0   \n",
       "2                   0                   0                   0   \n",
       "\n",
       "   ENSG00000007944.13  ENSG00000008056.11  ENSG00000008283.14  \\\n",
       "0                   0                   1                   1   \n",
       "1                   1                   0                   0   \n",
       "2                   0                   0                   0   \n",
       "\n",
       "   ENSG00000008311.13  ENSG00000008394.11  ENSG00000008516.15  \\\n",
       "0                   1                   1                   1   \n",
       "1                   1                   0                   0   \n",
       "2                   0                   0                   0   \n",
       "\n",
       "   ENSG00000008517.15  ENSG00000009790.13  ENSG00000010319.5  \\\n",
       "0                   1                   1                  0   \n",
       "1                   0                   0                  1   \n",
       "2                   0                   0                  0   \n",
       "\n",
       "   ENSG00000010704.17  ENSG00000010818.7        ...          \\\n",
       "0                   1                  1        ...           \n",
       "1                   0                  0        ...           \n",
       "2                   0                  0        ...           \n",
       "\n",
       "   ENSG00000279978.1  ENSG00000279989.1  ENSG00000280008.1  ENSG00000280011.1  \\\n",
       "0                  0                  1                  1                  0   \n",
       "1                  1                  0                  0                  1   \n",
       "2                  0                  0                  0                  0   \n",
       "\n",
       "   ENSG00000280022.1  ENSG00000280065.1  ENSG00000280079.1  ENSG00000280081.2  \\\n",
       "0                  1                  1                  1                  1   \n",
       "1                  0                  0                  0                  0   \n",
       "2                  0                  0                  0                  0   \n",
       "\n",
       "   ENSG00000280099.1  ENSG00000280123.1  ENSG00000280129.1  ENSG00000280132.1  \\\n",
       "0                  1                  1                  1                  1   \n",
       "1                  0                  0                  0                  0   \n",
       "2                  0                  0                  0                  0   \n",
       "\n",
       "   ENSG00000280153.1  ENSG00000280157.1  ENSG00000280184.1  ENSG00000280187.1  \\\n",
       "0                  1                  0                  1                  1   \n",
       "1                  1                  1                  0                  0   \n",
       "2                  0                  0                  0                  0   \n",
       "\n",
       "   ENSG00000280194.1  ENSG00000280195.1  ENSG00000280211.1  ENSG00000280213.1  \\\n",
       "0                  1                  1                  1                  1   \n",
       "1                  0                  0                  0                  0   \n",
       "2                  0                  0                  0                  0   \n",
       "\n",
       "   ENSG00000280216.1  ENSG00000280237.1  ENSG00000280254.1  ENSG00000280287.1  \\\n",
       "0                  1                  0                  1                  0   \n",
       "1                  0                  1                  0                  0   \n",
       "2                  0                  0                  0                  1   \n",
       "\n",
       "   ENSG00000280303.2  ENSG00000280332.1  ENSG00000280351.2  ENSG00000280401.1  \\\n",
       "0                  1                  1                  1                  1   \n",
       "1                  0                  0                  0                  0   \n",
       "2                  0                  0                  0                  0   \n",
       "\n",
       "   ENSG00000280550.1  ENSG00000280560.1  ENSG00000280594.1  ENSG00000280614.1  \\\n",
       "0                  0                  1                  1                  1   \n",
       "1                  1                  0                  0                  0   \n",
       "2                  0                  0                  0                  0   \n",
       "\n",
       "   ENSG00000280623.1  ENSG00000280649.1  ENSG00000280670.1  ENSG00000280721.1  \\\n",
       "0                  1                  1                  0                  1   \n",
       "1                  0                  1                  1                  0   \n",
       "2                  0                  0                  0                  0   \n",
       "\n",
       "   ENSG00000280777.1  ENSG00000280798.1  ENSG00000280953.1  ENSG00000281106.1  \\\n",
       "0                  1                  1                  1                  1   \n",
       "1                  0                  0                  0                  0   \n",
       "2                  0                  0                  0                  0   \n",
       "\n",
       "   ENSG00000281207.1  ENSG00000281344.1  ENSG00000281398.1  ENSG00000281404.1  \\\n",
       "0                  0                  0                  0                  1   \n",
       "1                  1                  1                  0                  0   \n",
       "2                  0                  0                  1                  0   \n",
       "\n",
       "   ENSG00000281433.1  ENSG00000281468.1  ENSG00000281501.1  ENSG00000281527.1  \\\n",
       "0                  1                  1                  1                  1   \n",
       "1                  0                  0                  0                  0   \n",
       "2                  0                  0                  0                  0   \n",
       "\n",
       "   ENSG00000281571.1  ENSG00000281741.1  \n",
       "0                  1                  1  \n",
       "1                  0                  0  \n",
       "2                  0                  0  \n",
       "\n",
       "[3 rows x 4285 columns]"
      ]
     },
     "execution_count": 210,
     "metadata": {},
     "output_type": "execute_result"
    }
   ],
   "source": [
    "pd.DataFrame.from_dict([lasso_dict, rf_dict, xgb_dict])"
   ]
  },
  {
   "cell_type": "code",
   "execution_count": null,
   "metadata": {},
   "outputs": [],
   "source": []
  },
  {
   "cell_type": "code",
   "execution_count": null,
   "metadata": {},
   "outputs": [],
   "source": []
  },
  {
   "cell_type": "code",
   "execution_count": null,
   "metadata": {},
   "outputs": [],
   "source": []
  }
 ],
 "metadata": {
  "kernelspec": {
   "display_name": "Python 3",
   "language": "python",
   "name": "python3"
  },
  "language_info": {
   "codemirror_mode": {
    "name": "ipython",
    "version": 3
   },
   "file_extension": ".py",
   "mimetype": "text/x-python",
   "name": "python",
   "nbconvert_exporter": "python",
   "pygments_lexer": "ipython3",
   "version": "3.6.8"
  }
 },
 "nbformat": 4,
 "nbformat_minor": 2
}
